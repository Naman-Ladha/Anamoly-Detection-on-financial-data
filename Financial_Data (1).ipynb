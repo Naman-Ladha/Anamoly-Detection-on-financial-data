{
  "cells": [
    {
      "cell_type": "code",
      "execution_count": null,
      "metadata": {
        "colab": {
          "base_uri": "https://localhost:8080/"
        },
        "id": "3_swwiFm4twC",
        "outputId": "17d4f10f-ea78-4224-8e3c-29c138dfc7ba"
      },
      "outputs": [
        {
          "output_type": "stream",
          "name": "stdout",
          "text": [
            "Drive already mounted at /content/drive; to attempt to forcibly remount, call drive.mount(\"/content/drive\", force_remount=True).\n"
          ]
        }
      ],
      "source": [
        "from google.colab import drive\n",
        "drive.mount('/content/drive')"
      ]
    },
    {
      "cell_type": "code",
      "execution_count": null,
      "metadata": {
        "colab": {
          "base_uri": "https://localhost:8080/"
        },
        "id": "z2VlppZd4vFF",
        "outputId": "b85acd19-477b-4154-a657-6d1d6740a8ca"
      },
      "outputs": [
        {
          "output_type": "stream",
          "name": "stdout",
          "text": [
            "/content/drive/MyDrive/Deloitte/JET_CSV_DATA\n"
          ]
        }
      ],
      "source": [
        "cd /content/drive/MyDrive/Deloitte/JET_CSV_DATA"
      ]
    },
    {
      "cell_type": "markdown",
      "source": [
        "#Data colation"
      ],
      "metadata": {
        "id": "_xUg2EyINrNx"
      }
    },
    {
      "cell_type": "code",
      "source": [
        "\"\"\"import os\n",
        "import glob\n",
        "import pandas as pd\n",
        "os.chdir(\"/content/drive/MyDrive/Deloitte/JET_CSV_DATA\")\"\"\"\n",
        "\"\"\"\"extension = 'csv'\n",
        "all_filenames = [i for i in glob.glob('*.{}'.format(extension))]\"\"\"\n",
        "\"\"\"\"extension = 'csv'\n",
        "all_filenames = [i for i in glob.glob('*.{}'.format(extension))]\"\"\"\n",
        "#combined_csv = pd.concat([pd.read_csv(f) for f in all_filenames ])\n",
        "\"\"\"concatenated_data=pd.read_csv(\"JET_DATA_0.csv\")\n",
        "for f in all_filenames:\n",
        "  if(f==\"JET_DATA_0.csv\" ):\n",
        "    continue\n",
        "  print(f)\n",
        "  concatenated_data=pd.concat([concatenated_data,pd.read_csv(f)] )\n",
        "\n",
        "\"\"\""
      ],
      "metadata": {
        "colab": {
          "base_uri": "https://localhost:8080/",
          "height": 36
        },
        "id": "PBRZ3jBsNpOA",
        "outputId": "8d6b30b1-1fd9-456d-cf62-82fd2263ff0e"
      },
      "execution_count": null,
      "outputs": [
        {
          "output_type": "execute_result",
          "data": {
            "text/plain": [
              "'concatenated_data=pd.read_csv(\"JET_DATA_0.csv\")\\nfor f in all_filenames:\\n  if(f==\"JET_DATA_0.csv\" ):\\n    continue\\n  print(f)\\n  concatenated_data=pd.concat([concatenated_data,pd.read_csv(f)] )\\n\\n'"
            ],
            "application/vnd.google.colaboratory.intrinsic+json": {
              "type": "string"
            }
          },
          "metadata": {},
          "execution_count": 3
        }
      ]
    },
    {
      "cell_type": "code",
      "execution_count": null,
      "metadata": {
        "id": "3emBGkEv47J2"
      },
      "outputs": [],
      "source": [
        "import pandas as pd\n",
        "import numpy as np"
      ]
    },
    {
      "cell_type": "markdown",
      "source": [
        "#Data"
      ],
      "metadata": {
        "id": "iHmWqFAmN5z5"
      }
    },
    {
      "cell_type": "code",
      "execution_count": null,
      "metadata": {
        "colab": {
          "base_uri": "https://localhost:8080/"
        },
        "id": "lP77wUYm5LNh",
        "outputId": "952a786f-f849-4267-e2e7-96a4ee4735f7"
      },
      "outputs": [
        {
          "output_type": "stream",
          "name": "stderr",
          "text": [
            "/usr/local/lib/python3.7/dist-packages/IPython/core/interactiveshell.py:2882: DtypeWarning: Columns (0) have mixed types.Specify dtype option on import or set low_memory=False.\n",
            "  exec(code_obj, self.user_global_ns, self.user_ns)\n"
          ]
        }
      ],
      "source": [
        "concatenated_data=pd.read_csv(\"concatenated_data.csv\") #The colated data is stored in concatenated_data"
      ]
    },
    {
      "cell_type": "code",
      "execution_count": null,
      "metadata": {
        "colab": {
          "base_uri": "https://localhost:8080/"
        },
        "id": "Q_Qk-mKtHfig",
        "outputId": "f1b0f6f1-bfda-45c5-c1f2-dbf4ef8f69d1"
      },
      "outputs": [
        {
          "output_type": "stream",
          "name": "stdout",
          "text": [
            "Folloing are the columns in the data\n",
            "\n",
            " Index(['GL account', 'Business Unit', 'Journal', 'VERS', 'Account No',\n",
            "       'Period', 'Sequence No', 'Post Date', 'PTIMEI', 'JNL_LNE', 'DOC_TYPE',\n",
            "       'Doc Date', 'SOURCE', 'Amount', 'BAT_NAME', 'BAT CR DATE',\n",
            "       'BAT_CRTIMEI', 'USER_FLD1', 'BAT_CRUSER', 'BAT_CRTERM', 'SOURCE_ID',\n",
            "       'Source_Date', 'SOURCE_TIMEI', 'SOURCE_USER', 'POST_USER',\n",
            "       'DOC_UNIQUE_ID'],\n",
            "      dtype='object')\n"
          ]
        }
      ],
      "source": [
        "print(\"Folloing are the columns in the data\\n\\n\",concatenated_data.columns)"
      ]
    },
    {
      "cell_type": "code",
      "source": [
        "print(\"Shape of the data\",concatenated_data.shape)"
      ],
      "metadata": {
        "colab": {
          "base_uri": "https://localhost:8080/"
        },
        "id": "TG1_YlyWOI-t",
        "outputId": "a6f9a775-686a-4ddb-e104-fdb0d81dc5a0"
      },
      "execution_count": null,
      "outputs": [
        {
          "output_type": "stream",
          "name": "stdout",
          "text": [
            "Shape of the data (10627609, 31)\n"
          ]
        }
      ]
    },
    {
      "cell_type": "markdown",
      "source": [
        "**Removing Duplicate Values**"
      ],
      "metadata": {
        "id": "sADV3uLGZUFG"
      }
    },
    {
      "cell_type": "code",
      "source": [
        "concatenated_data=concatenated_data.drop_duplicates()"
      ],
      "metadata": {
        "id": "XEfQEYbaZa2u"
      },
      "execution_count": null,
      "outputs": []
    },
    {
      "cell_type": "code",
      "source": [
        "print(\"Duplicate Values found=\",10627609-concatenated_data.shape[0])"
      ],
      "metadata": {
        "colab": {
          "base_uri": "https://localhost:8080/"
        },
        "id": "MGAV3FQ-ZybE",
        "outputId": "804b15a1-33aa-4d39-d0f1-627d814bf173"
      },
      "execution_count": null,
      "outputs": [
        {
          "output_type": "stream",
          "name": "stdout",
          "text": [
            "Duplicate Values found= 19\n"
          ]
        }
      ]
    },
    {
      "cell_type": "markdown",
      "source": [
        "**Corelation**"
      ],
      "metadata": {
        "id": "q2oDv3ObZOlf"
      }
    },
    {
      "cell_type": "code",
      "source": [
        "corelation=concatenated_data.corr()"
      ],
      "metadata": {
        "id": "Ywr5jEbpPcY9"
      },
      "execution_count": null,
      "outputs": []
    },
    {
      "cell_type": "code",
      "source": [
        "corelation "
      ],
      "metadata": {
        "colab": {
          "base_uri": "https://localhost:8080/",
          "height": 269
        },
        "id": "IevFJG7vOsid",
        "outputId": "ce7d7f03-13bd-425e-b23f-ac7e29acafee"
      },
      "execution_count": null,
      "outputs": [
        {
          "output_type": "execute_result",
          "data": {
            "text/plain": [
              "              Sequence No        PTIMEI   JNL_LNE        Amount  NARR1  \\\n",
              "Sequence No      1.000000 -4.063909e-02  0.323335 -4.980774e-05    NaN   \n",
              "PTIMEI          -0.040639  1.000000e+00 -0.028333  4.446487e-07    NaN   \n",
              "JNL_LNE          0.323335 -2.833292e-02  1.000000  4.771198e-05    NaN   \n",
              "Amount          -0.000050  4.446487e-07  0.000048  1.000000e+00    NaN   \n",
              "NARR1                 NaN           NaN       NaN           NaN    NaN   \n",
              "BAT_CRTIMEI     -0.004892  3.270699e-01 -0.023469  1.169225e-08    NaN   \n",
              "SOURCE_TIMEI    -0.041211  7.086111e-01 -0.033921  4.380536e-05    NaN   \n",
              "\n",
              "               BAT_CRTIMEI  SOURCE_TIMEI  \n",
              "Sequence No  -4.891700e-03     -0.041211  \n",
              "PTIMEI        3.270699e-01      0.708611  \n",
              "JNL_LNE      -2.346865e-02     -0.033921  \n",
              "Amount        1.169225e-08      0.000044  \n",
              "NARR1                  NaN           NaN  \n",
              "BAT_CRTIMEI   1.000000e+00      0.606217  \n",
              "SOURCE_TIMEI  6.062166e-01      1.000000  "
            ],
            "text/html": [
              "\n",
              "  <div id=\"df-83b208b1-5d9b-4b8c-b3c3-6776158acb50\">\n",
              "    <div class=\"colab-df-container\">\n",
              "      <div>\n",
              "<style scoped>\n",
              "    .dataframe tbody tr th:only-of-type {\n",
              "        vertical-align: middle;\n",
              "    }\n",
              "\n",
              "    .dataframe tbody tr th {\n",
              "        vertical-align: top;\n",
              "    }\n",
              "\n",
              "    .dataframe thead th {\n",
              "        text-align: right;\n",
              "    }\n",
              "</style>\n",
              "<table border=\"1\" class=\"dataframe\">\n",
              "  <thead>\n",
              "    <tr style=\"text-align: right;\">\n",
              "      <th></th>\n",
              "      <th>Sequence No</th>\n",
              "      <th>PTIMEI</th>\n",
              "      <th>JNL_LNE</th>\n",
              "      <th>Amount</th>\n",
              "      <th>NARR1</th>\n",
              "      <th>BAT_CRTIMEI</th>\n",
              "      <th>SOURCE_TIMEI</th>\n",
              "    </tr>\n",
              "  </thead>\n",
              "  <tbody>\n",
              "    <tr>\n",
              "      <th>Sequence No</th>\n",
              "      <td>1.000000</td>\n",
              "      <td>-4.063909e-02</td>\n",
              "      <td>0.323335</td>\n",
              "      <td>-4.980774e-05</td>\n",
              "      <td>NaN</td>\n",
              "      <td>-4.891700e-03</td>\n",
              "      <td>-0.041211</td>\n",
              "    </tr>\n",
              "    <tr>\n",
              "      <th>PTIMEI</th>\n",
              "      <td>-0.040639</td>\n",
              "      <td>1.000000e+00</td>\n",
              "      <td>-0.028333</td>\n",
              "      <td>4.446487e-07</td>\n",
              "      <td>NaN</td>\n",
              "      <td>3.270699e-01</td>\n",
              "      <td>0.708611</td>\n",
              "    </tr>\n",
              "    <tr>\n",
              "      <th>JNL_LNE</th>\n",
              "      <td>0.323335</td>\n",
              "      <td>-2.833292e-02</td>\n",
              "      <td>1.000000</td>\n",
              "      <td>4.771198e-05</td>\n",
              "      <td>NaN</td>\n",
              "      <td>-2.346865e-02</td>\n",
              "      <td>-0.033921</td>\n",
              "    </tr>\n",
              "    <tr>\n",
              "      <th>Amount</th>\n",
              "      <td>-0.000050</td>\n",
              "      <td>4.446487e-07</td>\n",
              "      <td>0.000048</td>\n",
              "      <td>1.000000e+00</td>\n",
              "      <td>NaN</td>\n",
              "      <td>1.169225e-08</td>\n",
              "      <td>0.000044</td>\n",
              "    </tr>\n",
              "    <tr>\n",
              "      <th>NARR1</th>\n",
              "      <td>NaN</td>\n",
              "      <td>NaN</td>\n",
              "      <td>NaN</td>\n",
              "      <td>NaN</td>\n",
              "      <td>NaN</td>\n",
              "      <td>NaN</td>\n",
              "      <td>NaN</td>\n",
              "    </tr>\n",
              "    <tr>\n",
              "      <th>BAT_CRTIMEI</th>\n",
              "      <td>-0.004892</td>\n",
              "      <td>3.270699e-01</td>\n",
              "      <td>-0.023469</td>\n",
              "      <td>1.169225e-08</td>\n",
              "      <td>NaN</td>\n",
              "      <td>1.000000e+00</td>\n",
              "      <td>0.606217</td>\n",
              "    </tr>\n",
              "    <tr>\n",
              "      <th>SOURCE_TIMEI</th>\n",
              "      <td>-0.041211</td>\n",
              "      <td>7.086111e-01</td>\n",
              "      <td>-0.033921</td>\n",
              "      <td>4.380536e-05</td>\n",
              "      <td>NaN</td>\n",
              "      <td>6.062166e-01</td>\n",
              "      <td>1.000000</td>\n",
              "    </tr>\n",
              "  </tbody>\n",
              "</table>\n",
              "</div>\n",
              "      <button class=\"colab-df-convert\" onclick=\"convertToInteractive('df-83b208b1-5d9b-4b8c-b3c3-6776158acb50')\"\n",
              "              title=\"Convert this dataframe to an interactive table.\"\n",
              "              style=\"display:none;\">\n",
              "        \n",
              "  <svg xmlns=\"http://www.w3.org/2000/svg\" height=\"24px\"viewBox=\"0 0 24 24\"\n",
              "       width=\"24px\">\n",
              "    <path d=\"M0 0h24v24H0V0z\" fill=\"none\"/>\n",
              "    <path d=\"M18.56 5.44l.94 2.06.94-2.06 2.06-.94-2.06-.94-.94-2.06-.94 2.06-2.06.94zm-11 1L8.5 8.5l.94-2.06 2.06-.94-2.06-.94L8.5 2.5l-.94 2.06-2.06.94zm10 10l.94 2.06.94-2.06 2.06-.94-2.06-.94-.94-2.06-.94 2.06-2.06.94z\"/><path d=\"M17.41 7.96l-1.37-1.37c-.4-.4-.92-.59-1.43-.59-.52 0-1.04.2-1.43.59L10.3 9.45l-7.72 7.72c-.78.78-.78 2.05 0 2.83L4 21.41c.39.39.9.59 1.41.59.51 0 1.02-.2 1.41-.59l7.78-7.78 2.81-2.81c.8-.78.8-2.07 0-2.86zM5.41 20L4 18.59l7.72-7.72 1.47 1.35L5.41 20z\"/>\n",
              "  </svg>\n",
              "      </button>\n",
              "      \n",
              "  <style>\n",
              "    .colab-df-container {\n",
              "      display:flex;\n",
              "      flex-wrap:wrap;\n",
              "      gap: 12px;\n",
              "    }\n",
              "\n",
              "    .colab-df-convert {\n",
              "      background-color: #E8F0FE;\n",
              "      border: none;\n",
              "      border-radius: 50%;\n",
              "      cursor: pointer;\n",
              "      display: none;\n",
              "      fill: #1967D2;\n",
              "      height: 32px;\n",
              "      padding: 0 0 0 0;\n",
              "      width: 32px;\n",
              "    }\n",
              "\n",
              "    .colab-df-convert:hover {\n",
              "      background-color: #E2EBFA;\n",
              "      box-shadow: 0px 1px 2px rgba(60, 64, 67, 0.3), 0px 1px 3px 1px rgba(60, 64, 67, 0.15);\n",
              "      fill: #174EA6;\n",
              "    }\n",
              "\n",
              "    [theme=dark] .colab-df-convert {\n",
              "      background-color: #3B4455;\n",
              "      fill: #D2E3FC;\n",
              "    }\n",
              "\n",
              "    [theme=dark] .colab-df-convert:hover {\n",
              "      background-color: #434B5C;\n",
              "      box-shadow: 0px 1px 3px 1px rgba(0, 0, 0, 0.15);\n",
              "      filter: drop-shadow(0px 1px 2px rgba(0, 0, 0, 0.3));\n",
              "      fill: #FFFFFF;\n",
              "    }\n",
              "  </style>\n",
              "\n",
              "      <script>\n",
              "        const buttonEl =\n",
              "          document.querySelector('#df-83b208b1-5d9b-4b8c-b3c3-6776158acb50 button.colab-df-convert');\n",
              "        buttonEl.style.display =\n",
              "          google.colab.kernel.accessAllowed ? 'block' : 'none';\n",
              "\n",
              "        async function convertToInteractive(key) {\n",
              "          const element = document.querySelector('#df-83b208b1-5d9b-4b8c-b3c3-6776158acb50');\n",
              "          const dataTable =\n",
              "            await google.colab.kernel.invokeFunction('convertToInteractive',\n",
              "                                                     [key], {});\n",
              "          if (!dataTable) return;\n",
              "\n",
              "          const docLinkHtml = 'Like what you see? Visit the ' +\n",
              "            '<a target=\"_blank\" href=https://colab.research.google.com/notebooks/data_table.ipynb>data table notebook</a>'\n",
              "            + ' to learn more about interactive tables.';\n",
              "          element.innerHTML = '';\n",
              "          dataTable['output_type'] = 'display_data';\n",
              "          await google.colab.output.renderOutput(dataTable, element);\n",
              "          const docLink = document.createElement('div');\n",
              "          docLink.innerHTML = docLinkHtml;\n",
              "          element.appendChild(docLink);\n",
              "        }\n",
              "      </script>\n",
              "    </div>\n",
              "  </div>\n",
              "  "
            ]
          },
          "metadata": {},
          "execution_count": 9
        }
      ]
    },
    {
      "cell_type": "code",
      "source": [
        "concatenated_data.describe()"
      ],
      "metadata": {
        "colab": {
          "base_uri": "https://localhost:8080/",
          "height": 301
        },
        "id": "2SFTrVKcOsm-",
        "outputId": "006918fe-9f01-4bc4-bf3b-5a6255af2cff"
      },
      "execution_count": null,
      "outputs": [
        {
          "output_type": "execute_result",
          "data": {
            "text/plain": [
              "        Sequence No        PTIMEI       JNL_LNE        Amount  NARR1  \\\n",
              "count  1.062759e+07  1.062759e+07  1.062759e+07  1.062759e+07    0.0   \n",
              "mean   3.094719e+03  1.178252e+05  5.174528e+06  8.986036e-03    NaN   \n",
              "std    6.440077e+03  6.152089e+04  2.123282e+07  7.245446e+03    NaN   \n",
              "min    1.000000e+00  0.000000e+00  1.000000e+00 -5.521651e+06    NaN   \n",
              "25%    6.800000e+01  8.222300e+04  5.000000e+00 -6.240780e-01    NaN   \n",
              "50%    4.740000e+02  1.124070e+05  2.200000e+01  4.711447e-02    NaN   \n",
              "75%    2.257000e+03  1.544130e+05  9.600000e+02  8.650681e-01    NaN   \n",
              "max    3.863500e+04  2.359590e+05  9.500000e+07  5.521651e+06    NaN   \n",
              "\n",
              "        BAT_CRTIMEI  SOURCE_TIMEI  \n",
              "count  1.062759e+07  1.062759e+07  \n",
              "mean   1.239781e+05  1.200727e+05  \n",
              "std    7.676611e+04  6.753522e+04  \n",
              "min    0.000000e+00  0.000000e+00  \n",
              "25%    8.572200e+04  8.305500e+04  \n",
              "50%    1.144320e+05  1.130290e+05  \n",
              "75%    1.810380e+05  1.624060e+05  \n",
              "max    2.359590e+05  2.359590e+05  "
            ],
            "text/html": [
              "\n",
              "  <div id=\"df-13b39568-877a-4923-b9be-8bf1dbf5f8fd\">\n",
              "    <div class=\"colab-df-container\">\n",
              "      <div>\n",
              "<style scoped>\n",
              "    .dataframe tbody tr th:only-of-type {\n",
              "        vertical-align: middle;\n",
              "    }\n",
              "\n",
              "    .dataframe tbody tr th {\n",
              "        vertical-align: top;\n",
              "    }\n",
              "\n",
              "    .dataframe thead th {\n",
              "        text-align: right;\n",
              "    }\n",
              "</style>\n",
              "<table border=\"1\" class=\"dataframe\">\n",
              "  <thead>\n",
              "    <tr style=\"text-align: right;\">\n",
              "      <th></th>\n",
              "      <th>Sequence No</th>\n",
              "      <th>PTIMEI</th>\n",
              "      <th>JNL_LNE</th>\n",
              "      <th>Amount</th>\n",
              "      <th>NARR1</th>\n",
              "      <th>BAT_CRTIMEI</th>\n",
              "      <th>SOURCE_TIMEI</th>\n",
              "    </tr>\n",
              "  </thead>\n",
              "  <tbody>\n",
              "    <tr>\n",
              "      <th>count</th>\n",
              "      <td>1.062759e+07</td>\n",
              "      <td>1.062759e+07</td>\n",
              "      <td>1.062759e+07</td>\n",
              "      <td>1.062759e+07</td>\n",
              "      <td>0.0</td>\n",
              "      <td>1.062759e+07</td>\n",
              "      <td>1.062759e+07</td>\n",
              "    </tr>\n",
              "    <tr>\n",
              "      <th>mean</th>\n",
              "      <td>3.094719e+03</td>\n",
              "      <td>1.178252e+05</td>\n",
              "      <td>5.174528e+06</td>\n",
              "      <td>8.986036e-03</td>\n",
              "      <td>NaN</td>\n",
              "      <td>1.239781e+05</td>\n",
              "      <td>1.200727e+05</td>\n",
              "    </tr>\n",
              "    <tr>\n",
              "      <th>std</th>\n",
              "      <td>6.440077e+03</td>\n",
              "      <td>6.152089e+04</td>\n",
              "      <td>2.123282e+07</td>\n",
              "      <td>7.245446e+03</td>\n",
              "      <td>NaN</td>\n",
              "      <td>7.676611e+04</td>\n",
              "      <td>6.753522e+04</td>\n",
              "    </tr>\n",
              "    <tr>\n",
              "      <th>min</th>\n",
              "      <td>1.000000e+00</td>\n",
              "      <td>0.000000e+00</td>\n",
              "      <td>1.000000e+00</td>\n",
              "      <td>-5.521651e+06</td>\n",
              "      <td>NaN</td>\n",
              "      <td>0.000000e+00</td>\n",
              "      <td>0.000000e+00</td>\n",
              "    </tr>\n",
              "    <tr>\n",
              "      <th>25%</th>\n",
              "      <td>6.800000e+01</td>\n",
              "      <td>8.222300e+04</td>\n",
              "      <td>5.000000e+00</td>\n",
              "      <td>-6.240780e-01</td>\n",
              "      <td>NaN</td>\n",
              "      <td>8.572200e+04</td>\n",
              "      <td>8.305500e+04</td>\n",
              "    </tr>\n",
              "    <tr>\n",
              "      <th>50%</th>\n",
              "      <td>4.740000e+02</td>\n",
              "      <td>1.124070e+05</td>\n",
              "      <td>2.200000e+01</td>\n",
              "      <td>4.711447e-02</td>\n",
              "      <td>NaN</td>\n",
              "      <td>1.144320e+05</td>\n",
              "      <td>1.130290e+05</td>\n",
              "    </tr>\n",
              "    <tr>\n",
              "      <th>75%</th>\n",
              "      <td>2.257000e+03</td>\n",
              "      <td>1.544130e+05</td>\n",
              "      <td>9.600000e+02</td>\n",
              "      <td>8.650681e-01</td>\n",
              "      <td>NaN</td>\n",
              "      <td>1.810380e+05</td>\n",
              "      <td>1.624060e+05</td>\n",
              "    </tr>\n",
              "    <tr>\n",
              "      <th>max</th>\n",
              "      <td>3.863500e+04</td>\n",
              "      <td>2.359590e+05</td>\n",
              "      <td>9.500000e+07</td>\n",
              "      <td>5.521651e+06</td>\n",
              "      <td>NaN</td>\n",
              "      <td>2.359590e+05</td>\n",
              "      <td>2.359590e+05</td>\n",
              "    </tr>\n",
              "  </tbody>\n",
              "</table>\n",
              "</div>\n",
              "      <button class=\"colab-df-convert\" onclick=\"convertToInteractive('df-13b39568-877a-4923-b9be-8bf1dbf5f8fd')\"\n",
              "              title=\"Convert this dataframe to an interactive table.\"\n",
              "              style=\"display:none;\">\n",
              "        \n",
              "  <svg xmlns=\"http://www.w3.org/2000/svg\" height=\"24px\"viewBox=\"0 0 24 24\"\n",
              "       width=\"24px\">\n",
              "    <path d=\"M0 0h24v24H0V0z\" fill=\"none\"/>\n",
              "    <path d=\"M18.56 5.44l.94 2.06.94-2.06 2.06-.94-2.06-.94-.94-2.06-.94 2.06-2.06.94zm-11 1L8.5 8.5l.94-2.06 2.06-.94-2.06-.94L8.5 2.5l-.94 2.06-2.06.94zm10 10l.94 2.06.94-2.06 2.06-.94-2.06-.94-.94-2.06-.94 2.06-2.06.94z\"/><path d=\"M17.41 7.96l-1.37-1.37c-.4-.4-.92-.59-1.43-.59-.52 0-1.04.2-1.43.59L10.3 9.45l-7.72 7.72c-.78.78-.78 2.05 0 2.83L4 21.41c.39.39.9.59 1.41.59.51 0 1.02-.2 1.41-.59l7.78-7.78 2.81-2.81c.8-.78.8-2.07 0-2.86zM5.41 20L4 18.59l7.72-7.72 1.47 1.35L5.41 20z\"/>\n",
              "  </svg>\n",
              "      </button>\n",
              "      \n",
              "  <style>\n",
              "    .colab-df-container {\n",
              "      display:flex;\n",
              "      flex-wrap:wrap;\n",
              "      gap: 12px;\n",
              "    }\n",
              "\n",
              "    .colab-df-convert {\n",
              "      background-color: #E8F0FE;\n",
              "      border: none;\n",
              "      border-radius: 50%;\n",
              "      cursor: pointer;\n",
              "      display: none;\n",
              "      fill: #1967D2;\n",
              "      height: 32px;\n",
              "      padding: 0 0 0 0;\n",
              "      width: 32px;\n",
              "    }\n",
              "\n",
              "    .colab-df-convert:hover {\n",
              "      background-color: #E2EBFA;\n",
              "      box-shadow: 0px 1px 2px rgba(60, 64, 67, 0.3), 0px 1px 3px 1px rgba(60, 64, 67, 0.15);\n",
              "      fill: #174EA6;\n",
              "    }\n",
              "\n",
              "    [theme=dark] .colab-df-convert {\n",
              "      background-color: #3B4455;\n",
              "      fill: #D2E3FC;\n",
              "    }\n",
              "\n",
              "    [theme=dark] .colab-df-convert:hover {\n",
              "      background-color: #434B5C;\n",
              "      box-shadow: 0px 1px 3px 1px rgba(0, 0, 0, 0.15);\n",
              "      filter: drop-shadow(0px 1px 2px rgba(0, 0, 0, 0.3));\n",
              "      fill: #FFFFFF;\n",
              "    }\n",
              "  </style>\n",
              "\n",
              "      <script>\n",
              "        const buttonEl =\n",
              "          document.querySelector('#df-13b39568-877a-4923-b9be-8bf1dbf5f8fd button.colab-df-convert');\n",
              "        buttonEl.style.display =\n",
              "          google.colab.kernel.accessAllowed ? 'block' : 'none';\n",
              "\n",
              "        async function convertToInteractive(key) {\n",
              "          const element = document.querySelector('#df-13b39568-877a-4923-b9be-8bf1dbf5f8fd');\n",
              "          const dataTable =\n",
              "            await google.colab.kernel.invokeFunction('convertToInteractive',\n",
              "                                                     [key], {});\n",
              "          if (!dataTable) return;\n",
              "\n",
              "          const docLinkHtml = 'Like what you see? Visit the ' +\n",
              "            '<a target=\"_blank\" href=https://colab.research.google.com/notebooks/data_table.ipynb>data table notebook</a>'\n",
              "            + ' to learn more about interactive tables.';\n",
              "          element.innerHTML = '';\n",
              "          dataTable['output_type'] = 'display_data';\n",
              "          await google.colab.output.renderOutput(dataTable, element);\n",
              "          const docLink = document.createElement('div');\n",
              "          docLink.innerHTML = docLinkHtml;\n",
              "          element.appendChild(docLink);\n",
              "        }\n",
              "      </script>\n",
              "    </div>\n",
              "  </div>\n",
              "  "
            ]
          },
          "metadata": {},
          "execution_count": 11
        }
      ]
    },
    {
      "cell_type": "code",
      "source": [
        "concatenated_data.nunique()"
      ],
      "metadata": {
        "colab": {
          "base_uri": "https://localhost:8080/"
        },
        "id": "bo6Yc8sHPlfM",
        "outputId": "d38e7e41-7a92-43d4-f6dc-f59e8a1d652b"
      },
      "execution_count": null,
      "outputs": [
        {
          "output_type": "execute_result",
          "data": {
            "text/plain": [
              "DTT_ID           10627599\n",
              "GL account            823\n",
              "Business Unit         289\n",
              "Journal                 2\n",
              "VERS                    4\n",
              "LDG_NAME                1\n",
              "Account No          49094\n",
              "Period                 13\n",
              "Sequence No         38635\n",
              "Post Date             385\n",
              "PTIMEI              86016\n",
              "JNL_LNE             13441\n",
              "DOC_TYPE               38\n",
              "Doc Date             1135\n",
              "DOC_REF1          1451550\n",
              "SOURCE                  9\n",
              "Amount             889247\n",
              "NARR1                   0\n",
              "BAT_NAME           837911\n",
              "BAT CR DATE           405\n",
              "BAT_CRTIMEI         60115\n",
              "DOC_XREF          2316775\n",
              "USER_FLD1             964\n",
              "BAT_CRUSER            151\n",
              "BAT_CRTERM              5\n",
              "SOURCE_ID               7\n",
              "Source_Date           389\n",
              "SOURCE_TIMEI        86269\n",
              "SOURCE_USER           151\n",
              "POST_USER             151\n",
              "DOC_UNIQUE_ID      934319\n",
              "dtype: int64"
            ]
          },
          "metadata": {},
          "execution_count": 12
        }
      ]
    },
    {
      "cell_type": "code",
      "source": [
        "#Dropping columns based on unique values and data type\n",
        "concatenated_data=concatenated_data.drop([\"NARR1\",\"LDG_NAME\",\"DTT_ID\",\"DOC_REF1\",\"DOC_XREF\"],axis=1)"
      ],
      "metadata": {
        "id": "UtZAmStWT7kO"
      },
      "execution_count": null,
      "outputs": []
    },
    {
      "cell_type": "markdown",
      "source": [
        "#Corelation between categorical variables"
      ],
      "metadata": {
        "id": "NovDG1MXTWOd"
      }
    },
    {
      "cell_type": "code",
      "source": [
        "catColumnsPos=[\"POST_USER\",\"SOURCE_USER\",\"SOURCE_ID\",\"BAT_CRTERM\",\"SOURCE\"]"
      ],
      "metadata": {
        "id": "Idwk3tFzSjax"
      },
      "execution_count": null,
      "outputs": []
    },
    {
      "cell_type": "code",
      "source": [
        "df=concatenated_data[catColumnsPos]"
      ],
      "metadata": {
        "id": "2v1EpzZKRj9Y"
      },
      "execution_count": null,
      "outputs": []
    },
    {
      "cell_type": "code",
      "source": [
        "from  scipy.stats import chi2_contingency\n",
        "factors_paired = [(i,j) for i in df.columns.values for j in df.columns.values] \n",
        "\n",
        "chi2, p_values =[], []\n",
        "\n",
        "for f in factors_paired:\n",
        "    if f[0] != f[1]:\n",
        "        chitest = chi2_contingency(pd.crosstab(df[f[0]], df[f[1]]))   \n",
        "        chi2.append(chitest[0])\n",
        "        p_values.append(chitest[1])\n",
        "    else:      # for same factor pair\n",
        "        chi2.append(0)\n",
        "        p_values.append(0)\n",
        "\n",
        "chi2 = np.array(chi2).reshape((len(catColumnsPos),len(catColumnsPos))) # shape it as a matrix\n",
        "chi2 = pd.DataFrame(chi2, index=df.columns.values, columns=df.columns.values) # then a df for convenienc"
      ],
      "metadata": {
        "id": "pzHBRu2hPlm5"
      },
      "execution_count": null,
      "outputs": []
    },
    {
      "cell_type": "code",
      "source": [
        "np.round(chi2,0)/100000"
      ],
      "metadata": {
        "colab": {
          "base_uri": "https://localhost:8080/",
          "height": 207
        },
        "id": "7n5NJPdbPlrP",
        "outputId": "4c4a4f6f-243c-455c-de4a-721d6b72ba5b"
      },
      "execution_count": null,
      "outputs": [
        {
          "output_type": "execute_result",
          "data": {
            "text/plain": [
              "               POST_USER  SOURCE_USER  SOURCE_ID  BAT_CRTERM     SOURCE\n",
              "POST_USER        0.00000  15677.25301  136.79460   137.14702  340.35064\n",
              "SOURCE_USER  15677.25301      0.00000  138.09256   137.72703  341.61259\n",
              "SOURCE_ID      136.79460    138.09256    0.00000    28.28760  293.44463\n",
              "BAT_CRTERM     137.14702    137.72703   28.28760     0.00000   97.40453\n",
              "SOURCE         340.35064    341.61259  293.44463    97.40453    0.00000"
            ],
            "text/html": [
              "\n",
              "  <div id=\"df-c0dcbf3a-1d50-4136-9730-84d674aae43f\">\n",
              "    <div class=\"colab-df-container\">\n",
              "      <div>\n",
              "<style scoped>\n",
              "    .dataframe tbody tr th:only-of-type {\n",
              "        vertical-align: middle;\n",
              "    }\n",
              "\n",
              "    .dataframe tbody tr th {\n",
              "        vertical-align: top;\n",
              "    }\n",
              "\n",
              "    .dataframe thead th {\n",
              "        text-align: right;\n",
              "    }\n",
              "</style>\n",
              "<table border=\"1\" class=\"dataframe\">\n",
              "  <thead>\n",
              "    <tr style=\"text-align: right;\">\n",
              "      <th></th>\n",
              "      <th>POST_USER</th>\n",
              "      <th>SOURCE_USER</th>\n",
              "      <th>SOURCE_ID</th>\n",
              "      <th>BAT_CRTERM</th>\n",
              "      <th>SOURCE</th>\n",
              "    </tr>\n",
              "  </thead>\n",
              "  <tbody>\n",
              "    <tr>\n",
              "      <th>POST_USER</th>\n",
              "      <td>0.00000</td>\n",
              "      <td>15677.25301</td>\n",
              "      <td>136.79460</td>\n",
              "      <td>137.14702</td>\n",
              "      <td>340.35064</td>\n",
              "    </tr>\n",
              "    <tr>\n",
              "      <th>SOURCE_USER</th>\n",
              "      <td>15677.25301</td>\n",
              "      <td>0.00000</td>\n",
              "      <td>138.09256</td>\n",
              "      <td>137.72703</td>\n",
              "      <td>341.61259</td>\n",
              "    </tr>\n",
              "    <tr>\n",
              "      <th>SOURCE_ID</th>\n",
              "      <td>136.79460</td>\n",
              "      <td>138.09256</td>\n",
              "      <td>0.00000</td>\n",
              "      <td>28.28760</td>\n",
              "      <td>293.44463</td>\n",
              "    </tr>\n",
              "    <tr>\n",
              "      <th>BAT_CRTERM</th>\n",
              "      <td>137.14702</td>\n",
              "      <td>137.72703</td>\n",
              "      <td>28.28760</td>\n",
              "      <td>0.00000</td>\n",
              "      <td>97.40453</td>\n",
              "    </tr>\n",
              "    <tr>\n",
              "      <th>SOURCE</th>\n",
              "      <td>340.35064</td>\n",
              "      <td>341.61259</td>\n",
              "      <td>293.44463</td>\n",
              "      <td>97.40453</td>\n",
              "      <td>0.00000</td>\n",
              "    </tr>\n",
              "  </tbody>\n",
              "</table>\n",
              "</div>\n",
              "      <button class=\"colab-df-convert\" onclick=\"convertToInteractive('df-c0dcbf3a-1d50-4136-9730-84d674aae43f')\"\n",
              "              title=\"Convert this dataframe to an interactive table.\"\n",
              "              style=\"display:none;\">\n",
              "        \n",
              "  <svg xmlns=\"http://www.w3.org/2000/svg\" height=\"24px\"viewBox=\"0 0 24 24\"\n",
              "       width=\"24px\">\n",
              "    <path d=\"M0 0h24v24H0V0z\" fill=\"none\"/>\n",
              "    <path d=\"M18.56 5.44l.94 2.06.94-2.06 2.06-.94-2.06-.94-.94-2.06-.94 2.06-2.06.94zm-11 1L8.5 8.5l.94-2.06 2.06-.94-2.06-.94L8.5 2.5l-.94 2.06-2.06.94zm10 10l.94 2.06.94-2.06 2.06-.94-2.06-.94-.94-2.06-.94 2.06-2.06.94z\"/><path d=\"M17.41 7.96l-1.37-1.37c-.4-.4-.92-.59-1.43-.59-.52 0-1.04.2-1.43.59L10.3 9.45l-7.72 7.72c-.78.78-.78 2.05 0 2.83L4 21.41c.39.39.9.59 1.41.59.51 0 1.02-.2 1.41-.59l7.78-7.78 2.81-2.81c.8-.78.8-2.07 0-2.86zM5.41 20L4 18.59l7.72-7.72 1.47 1.35L5.41 20z\"/>\n",
              "  </svg>\n",
              "      </button>\n",
              "      \n",
              "  <style>\n",
              "    .colab-df-container {\n",
              "      display:flex;\n",
              "      flex-wrap:wrap;\n",
              "      gap: 12px;\n",
              "    }\n",
              "\n",
              "    .colab-df-convert {\n",
              "      background-color: #E8F0FE;\n",
              "      border: none;\n",
              "      border-radius: 50%;\n",
              "      cursor: pointer;\n",
              "      display: none;\n",
              "      fill: #1967D2;\n",
              "      height: 32px;\n",
              "      padding: 0 0 0 0;\n",
              "      width: 32px;\n",
              "    }\n",
              "\n",
              "    .colab-df-convert:hover {\n",
              "      background-color: #E2EBFA;\n",
              "      box-shadow: 0px 1px 2px rgba(60, 64, 67, 0.3), 0px 1px 3px 1px rgba(60, 64, 67, 0.15);\n",
              "      fill: #174EA6;\n",
              "    }\n",
              "\n",
              "    [theme=dark] .colab-df-convert {\n",
              "      background-color: #3B4455;\n",
              "      fill: #D2E3FC;\n",
              "    }\n",
              "\n",
              "    [theme=dark] .colab-df-convert:hover {\n",
              "      background-color: #434B5C;\n",
              "      box-shadow: 0px 1px 3px 1px rgba(0, 0, 0, 0.15);\n",
              "      filter: drop-shadow(0px 1px 2px rgba(0, 0, 0, 0.3));\n",
              "      fill: #FFFFFF;\n",
              "    }\n",
              "  </style>\n",
              "\n",
              "      <script>\n",
              "        const buttonEl =\n",
              "          document.querySelector('#df-c0dcbf3a-1d50-4136-9730-84d674aae43f button.colab-df-convert');\n",
              "        buttonEl.style.display =\n",
              "          google.colab.kernel.accessAllowed ? 'block' : 'none';\n",
              "\n",
              "        async function convertToInteractive(key) {\n",
              "          const element = document.querySelector('#df-c0dcbf3a-1d50-4136-9730-84d674aae43f');\n",
              "          const dataTable =\n",
              "            await google.colab.kernel.invokeFunction('convertToInteractive',\n",
              "                                                     [key], {});\n",
              "          if (!dataTable) return;\n",
              "\n",
              "          const docLinkHtml = 'Like what you see? Visit the ' +\n",
              "            '<a target=\"_blank\" href=https://colab.research.google.com/notebooks/data_table.ipynb>data table notebook</a>'\n",
              "            + ' to learn more about interactive tables.';\n",
              "          element.innerHTML = '';\n",
              "          dataTable['output_type'] = 'display_data';\n",
              "          await google.colab.output.renderOutput(dataTable, element);\n",
              "          const docLink = document.createElement('div');\n",
              "          docLink.innerHTML = docLinkHtml;\n",
              "          element.appendChild(docLink);\n",
              "        }\n",
              "      </script>\n",
              "    </div>\n",
              "  </div>\n",
              "  "
            ]
          },
          "metadata": {},
          "execution_count": 18
        }
      ]
    },
    {
      "cell_type": "code",
      "source": [
        "#We can observe there is a corelation between source user and post user"
      ],
      "metadata": {
        "id": "gemvxraePlvf"
      },
      "execution_count": null,
      "outputs": []
    },
    {
      "cell_type": "code",
      "source": [
        "catColumnsPos=[\"GL account\",\"Account No\"]\n",
        "df=concatenated_data[catColumnsPos]\n",
        "from  scipy.stats import chi2_contingency\n",
        "factors_paired = [(i,j) for i in df.columns.values for j in df.columns.values] \n",
        "\n",
        "chi2, p_values =[], []\n",
        "\n",
        "for f in factors_paired:\n",
        "    if f[0] != f[1]:\n",
        "        chitest = chi2_contingency(pd.crosstab(df[f[0]], df[f[1]]))   \n",
        "        chi2.append(chitest[0])\n",
        "        p_values.append(chitest[1])\n",
        "    else:      # for same factor pair\n",
        "        chi2.append(0)\n",
        "        p_values.append(0)\n",
        "\n",
        "chi2 = np.array(chi2).reshape((len(catColumnsPos),len(catColumnsPos))) # shape it as a matrix\n",
        "chi2 = pd.DataFrame(chi2, index=df.columns.values, columns=df.columns.values) # then a df for convenienc\n"
      ],
      "metadata": {
        "id": "OWMlyEDDPlzX"
      },
      "execution_count": null,
      "outputs": []
    },
    {
      "cell_type": "code",
      "source": [
        "chi2"
      ],
      "metadata": {
        "colab": {
          "base_uri": "https://localhost:8080/",
          "height": 113
        },
        "id": "TinQh0ArPl3T",
        "outputId": "8d983baa-0113-4059-d6a4-62c746231687"
      },
      "execution_count": null,
      "outputs": [
        {
          "output_type": "execute_result",
          "data": {
            "text/plain": [
              "              GL account    Account No\n",
              "GL account  0.000000e+00  8.735878e+09\n",
              "Account No  8.735878e+09  0.000000e+00"
            ],
            "text/html": [
              "\n",
              "  <div id=\"df-1aec5bc5-9197-4620-9676-5c3444b050b9\">\n",
              "    <div class=\"colab-df-container\">\n",
              "      <div>\n",
              "<style scoped>\n",
              "    .dataframe tbody tr th:only-of-type {\n",
              "        vertical-align: middle;\n",
              "    }\n",
              "\n",
              "    .dataframe tbody tr th {\n",
              "        vertical-align: top;\n",
              "    }\n",
              "\n",
              "    .dataframe thead th {\n",
              "        text-align: right;\n",
              "    }\n",
              "</style>\n",
              "<table border=\"1\" class=\"dataframe\">\n",
              "  <thead>\n",
              "    <tr style=\"text-align: right;\">\n",
              "      <th></th>\n",
              "      <th>GL account</th>\n",
              "      <th>Account No</th>\n",
              "    </tr>\n",
              "  </thead>\n",
              "  <tbody>\n",
              "    <tr>\n",
              "      <th>GL account</th>\n",
              "      <td>0.000000e+00</td>\n",
              "      <td>8.735878e+09</td>\n",
              "    </tr>\n",
              "    <tr>\n",
              "      <th>Account No</th>\n",
              "      <td>8.735878e+09</td>\n",
              "      <td>0.000000e+00</td>\n",
              "    </tr>\n",
              "  </tbody>\n",
              "</table>\n",
              "</div>\n",
              "      <button class=\"colab-df-convert\" onclick=\"convertToInteractive('df-1aec5bc5-9197-4620-9676-5c3444b050b9')\"\n",
              "              title=\"Convert this dataframe to an interactive table.\"\n",
              "              style=\"display:none;\">\n",
              "        \n",
              "  <svg xmlns=\"http://www.w3.org/2000/svg\" height=\"24px\"viewBox=\"0 0 24 24\"\n",
              "       width=\"24px\">\n",
              "    <path d=\"M0 0h24v24H0V0z\" fill=\"none\"/>\n",
              "    <path d=\"M18.56 5.44l.94 2.06.94-2.06 2.06-.94-2.06-.94-.94-2.06-.94 2.06-2.06.94zm-11 1L8.5 8.5l.94-2.06 2.06-.94-2.06-.94L8.5 2.5l-.94 2.06-2.06.94zm10 10l.94 2.06.94-2.06 2.06-.94-2.06-.94-.94-2.06-.94 2.06-2.06.94z\"/><path d=\"M17.41 7.96l-1.37-1.37c-.4-.4-.92-.59-1.43-.59-.52 0-1.04.2-1.43.59L10.3 9.45l-7.72 7.72c-.78.78-.78 2.05 0 2.83L4 21.41c.39.39.9.59 1.41.59.51 0 1.02-.2 1.41-.59l7.78-7.78 2.81-2.81c.8-.78.8-2.07 0-2.86zM5.41 20L4 18.59l7.72-7.72 1.47 1.35L5.41 20z\"/>\n",
              "  </svg>\n",
              "      </button>\n",
              "      \n",
              "  <style>\n",
              "    .colab-df-container {\n",
              "      display:flex;\n",
              "      flex-wrap:wrap;\n",
              "      gap: 12px;\n",
              "    }\n",
              "\n",
              "    .colab-df-convert {\n",
              "      background-color: #E8F0FE;\n",
              "      border: none;\n",
              "      border-radius: 50%;\n",
              "      cursor: pointer;\n",
              "      display: none;\n",
              "      fill: #1967D2;\n",
              "      height: 32px;\n",
              "      padding: 0 0 0 0;\n",
              "      width: 32px;\n",
              "    }\n",
              "\n",
              "    .colab-df-convert:hover {\n",
              "      background-color: #E2EBFA;\n",
              "      box-shadow: 0px 1px 2px rgba(60, 64, 67, 0.3), 0px 1px 3px 1px rgba(60, 64, 67, 0.15);\n",
              "      fill: #174EA6;\n",
              "    }\n",
              "\n",
              "    [theme=dark] .colab-df-convert {\n",
              "      background-color: #3B4455;\n",
              "      fill: #D2E3FC;\n",
              "    }\n",
              "\n",
              "    [theme=dark] .colab-df-convert:hover {\n",
              "      background-color: #434B5C;\n",
              "      box-shadow: 0px 1px 3px 1px rgba(0, 0, 0, 0.15);\n",
              "      filter: drop-shadow(0px 1px 2px rgba(0, 0, 0, 0.3));\n",
              "      fill: #FFFFFF;\n",
              "    }\n",
              "  </style>\n",
              "\n",
              "      <script>\n",
              "        const buttonEl =\n",
              "          document.querySelector('#df-1aec5bc5-9197-4620-9676-5c3444b050b9 button.colab-df-convert');\n",
              "        buttonEl.style.display =\n",
              "          google.colab.kernel.accessAllowed ? 'block' : 'none';\n",
              "\n",
              "        async function convertToInteractive(key) {\n",
              "          const element = document.querySelector('#df-1aec5bc5-9197-4620-9676-5c3444b050b9');\n",
              "          const dataTable =\n",
              "            await google.colab.kernel.invokeFunction('convertToInteractive',\n",
              "                                                     [key], {});\n",
              "          if (!dataTable) return;\n",
              "\n",
              "          const docLinkHtml = 'Like what you see? Visit the ' +\n",
              "            '<a target=\"_blank\" href=https://colab.research.google.com/notebooks/data_table.ipynb>data table notebook</a>'\n",
              "            + ' to learn more about interactive tables.';\n",
              "          element.innerHTML = '';\n",
              "          dataTable['output_type'] = 'display_data';\n",
              "          await google.colab.output.renderOutput(dataTable, element);\n",
              "          const docLink = document.createElement('div');\n",
              "          docLink.innerHTML = docLinkHtml;\n",
              "          element.appendChild(docLink);\n",
              "        }\n",
              "      </script>\n",
              "    </div>\n",
              "  </div>\n",
              "  "
            ]
          },
          "metadata": {},
          "execution_count": 20
        }
      ]
    },
    {
      "cell_type": "code",
      "source": [
        "#We can observe strong corelation amongst GL account and Account No"
      ],
      "metadata": {
        "id": "Y3wQHVirPl7S"
      },
      "execution_count": null,
      "outputs": []
    },
    {
      "cell_type": "markdown",
      "source": [
        "**Missing Values**"
      ],
      "metadata": {
        "id": "Ri-4HlOzPl_g"
      }
    },
    {
      "cell_type": "code",
      "source": [
        "print(\"Number of missing values\\n\",concatenated_data.isnull().sum())"
      ],
      "metadata": {
        "colab": {
          "base_uri": "https://localhost:8080/"
        },
        "id": "a21ufJ4xWLhe",
        "outputId": "26693254-1db3-4dd4-9208-a4d6b3842a12"
      },
      "execution_count": null,
      "outputs": [
        {
          "output_type": "stream",
          "name": "stdout",
          "text": [
            "Number of missing values= GL account             1\n",
            "Business Unit          1\n",
            "Journal                1\n",
            "VERS                   1\n",
            "Account No             1\n",
            "Period                 1\n",
            "Sequence No            1\n",
            "Post Date              1\n",
            "PTIMEI                 1\n",
            "JNL_LNE                1\n",
            "DOC_TYPE               1\n",
            "Doc Date               1\n",
            "SOURCE             77465\n",
            "Amount                 1\n",
            "BAT_NAME               1\n",
            "BAT CR DATE            1\n",
            "BAT_CRTIMEI            1\n",
            "USER_FLD1        8390424\n",
            "BAT_CRUSER             1\n",
            "BAT_CRTERM             1\n",
            "SOURCE_ID           4149\n",
            "Source_Date            1\n",
            "SOURCE_TIMEI           1\n",
            "SOURCE_USER         4149\n",
            "POST_USER              1\n",
            "DOC_UNIQUE_ID    4910585\n",
            "dtype: int64\n"
          ]
        }
      ]
    },
    {
      "cell_type": "code",
      "source": [
        "concatenated_data=concatenated_data.drop([\"USER_FLD1\",\"DOC_UNIQUE_ID\"],axis=1)\n",
        "#Dropping Variables with high missing values and low corelation with other variables"
      ],
      "metadata": {
        "id": "KNRHUJxcWLqc"
      },
      "execution_count": null,
      "outputs": []
    },
    {
      "cell_type": "code",
      "source": [
        "concatenated_data=concatenated_data.drop([\"SOURCE\"],axis=1)"
      ],
      "metadata": {
        "id": "3dd-Dz12bA7s"
      },
      "execution_count": null,
      "outputs": []
    },
    {
      "cell_type": "code",
      "source": [
        "print(\"Number of missing values\\n\",concatenated_data.isnull().sum())"
      ],
      "metadata": {
        "colab": {
          "base_uri": "https://localhost:8080/"
        },
        "id": "tSseCvKQWLsq",
        "outputId": "fb3d9089-7007-4464-dbbe-a0b3bb27f6c1"
      },
      "execution_count": null,
      "outputs": [
        {
          "output_type": "stream",
          "name": "stdout",
          "text": [
            "Number of missing values\n",
            " GL account          1\n",
            "Business Unit       1\n",
            "Journal             1\n",
            "VERS                1\n",
            "Account No          1\n",
            "Period              1\n",
            "Sequence No         1\n",
            "Post Date           1\n",
            "PTIMEI              1\n",
            "JNL_LNE             1\n",
            "DOC_TYPE            1\n",
            "Doc Date            1\n",
            "Amount              1\n",
            "BAT_NAME            1\n",
            "BAT CR DATE         1\n",
            "BAT_CRTIMEI         1\n",
            "BAT_CRUSER          1\n",
            "BAT_CRTERM          1\n",
            "SOURCE_ID        4149\n",
            "Source_Date         1\n",
            "SOURCE_TIMEI        1\n",
            "SOURCE_USER      4149\n",
            "POST_USER           1\n",
            "dtype: int64\n"
          ]
        }
      ]
    },
    {
      "cell_type": "code",
      "source": [
        "#From this it seems like there is one entry where all the points are missing we can check by following code"
      ],
      "metadata": {
        "id": "5kN-3fG0WLyN"
      },
      "execution_count": null,
      "outputs": []
    },
    {
      "cell_type": "code",
      "source": [
        "concatenated_data[concatenated_data.isna().any(axis=1)]"
      ],
      "metadata": {
        "colab": {
          "base_uri": "https://localhost:8080/",
          "height": 424
        },
        "id": "mgSHowqJWL9p",
        "outputId": "4b8c2376-a6c9-4f79-e662-623755736a53"
      },
      "execution_count": null,
      "outputs": [
        {
          "output_type": "execute_result",
          "data": {
            "text/plain": [
              "             GL account      Business Unit    Journal    VERS  \\\n",
              "877694              NaN                NaN        NaN     NaN   \n",
              "1051253  GL account 643  Business Unit 278  Journal 1  VERS 1   \n",
              "1051254  GL account 643  Business Unit 278  Journal 1  VERS 1   \n",
              "1051255  GL account 643  Business Unit 278  Journal 1  VERS 1   \n",
              "1051256  GL account 643  Business Unit 278  Journal 1  VERS 1   \n",
              "...                 ...                ...        ...     ...   \n",
              "7550312  GL account 530  Business Unit 282  Journal 1  VERS 1   \n",
              "7553246  GL account 272  Business Unit 105  Journal 1  VERS 1   \n",
              "7572477  GL account 303  Business Unit 282  Journal 1  VERS 1   \n",
              "7572478  GL account 303  Business Unit 282  Journal 1  VERS 1   \n",
              "7572479  GL account 303  Business Unit 282  Journal 1  VERS 1   \n",
              "\n",
              "               Account No     Period  Sequence No   Post Date    PTIMEI  \\\n",
              "877694                NaN        NaN          NaN         NaN       NaN   \n",
              "1051253  Account No 48889  Period 12         25.0  28/06/2015  170049.0   \n",
              "1051254  Account No 48889  Period 12         28.0  28/06/2015  170049.0   \n",
              "1051255  Account No 48889  Period 12         29.0  28/06/2015  170049.0   \n",
              "1051256  Account No 48889  Period 12         30.0  28/06/2015  170049.0   \n",
              "...                   ...        ...          ...         ...       ...   \n",
              "7550312  Account No 48991   Period 1          1.0   3/08/2014  134008.0   \n",
              "7553246  Account No 36434   Period 5          1.0  29/11/2014  164635.0   \n",
              "7572477  Account No 49006   Period 2          2.0   3/09/2014  141851.0   \n",
              "7572478  Account No 49006   Period 1          1.0   3/08/2014  134008.0   \n",
              "7572479  Account No 49006   Period 2          1.0   3/09/2014  141851.0   \n",
              "\n",
              "         JNL_LNE  ...         BAT_NAME BAT CR DATE  BAT_CRTIMEI  \\\n",
              "877694       NaN  ...              NaN         NaN          NaN   \n",
              "1051253     50.0  ...  BAT_NAME 520591  24/06/2015     170050.0   \n",
              "1051254     56.0  ...  BAT_NAME 520591  24/06/2015     170050.0   \n",
              "1051255     58.0  ...  BAT_NAME 520591  24/06/2015     170050.0   \n",
              "1051256     60.0  ...  BAT_NAME 520591  24/06/2015     170050.0   \n",
              "...          ...  ...              ...         ...          ...   \n",
              "7550312      4.0  ...  BAT_NAME 520592  30/07/2014     134011.0   \n",
              "7553246      2.0  ...  BAT_NAME 520584  25/11/2014     164636.0   \n",
              "7572477      4.0  ...  BAT_NAME 520592  30/08/2014     141854.0   \n",
              "7572478      2.0  ...  BAT_NAME 520592  30/07/2014     134011.0   \n",
              "7572479      2.0  ...  BAT_NAME 520592  30/08/2014     141854.0   \n",
              "\n",
              "             BAT_CRUSER    BAT_CRTERM  SOURCE_ID Source_Date SOURCE_TIMEI  \\\n",
              "877694              NaN           NaN        NaN         NaN          NaN   \n",
              "1051253  BAT_CRUSER 145  BAT_CRTERM 5        NaN  28/06/2015          0.0   \n",
              "1051254  BAT_CRUSER 145  BAT_CRTERM 5        NaN  28/06/2015          0.0   \n",
              "1051255  BAT_CRUSER 145  BAT_CRTERM 5        NaN  28/06/2015          0.0   \n",
              "1051256  BAT_CRUSER 145  BAT_CRTERM 5        NaN  28/06/2015          0.0   \n",
              "...                 ...           ...        ...         ...          ...   \n",
              "7550312  BAT_CRUSER 145  BAT_CRTERM 5        NaN   3/08/2014          0.0   \n",
              "7553246  BAT_CRUSER 145  BAT_CRTERM 5        NaN  29/11/2014          0.0   \n",
              "7572477  BAT_CRUSER 145  BAT_CRTERM 5        NaN   3/09/2014          0.0   \n",
              "7572478  BAT_CRUSER 145  BAT_CRTERM 5        NaN   3/08/2014          0.0   \n",
              "7572479  BAT_CRUSER 145  BAT_CRTERM 5        NaN   3/09/2014          0.0   \n",
              "\n",
              "        SOURCE_USER      POST_USER  \n",
              "877694          NaN            NaN  \n",
              "1051253         NaN  POST_USER 145  \n",
              "1051254         NaN  POST_USER 145  \n",
              "1051255         NaN  POST_USER 145  \n",
              "1051256         NaN  POST_USER 145  \n",
              "...             ...            ...  \n",
              "7550312         NaN  POST_USER 145  \n",
              "7553246         NaN  POST_USER 145  \n",
              "7572477         NaN  POST_USER 145  \n",
              "7572478         NaN  POST_USER 145  \n",
              "7572479         NaN  POST_USER 145  \n",
              "\n",
              "[4149 rows x 23 columns]"
            ],
            "text/html": [
              "\n",
              "  <div id=\"df-54ba8434-4b63-453c-86e5-dc3f931414c5\">\n",
              "    <div class=\"colab-df-container\">\n",
              "      <div>\n",
              "<style scoped>\n",
              "    .dataframe tbody tr th:only-of-type {\n",
              "        vertical-align: middle;\n",
              "    }\n",
              "\n",
              "    .dataframe tbody tr th {\n",
              "        vertical-align: top;\n",
              "    }\n",
              "\n",
              "    .dataframe thead th {\n",
              "        text-align: right;\n",
              "    }\n",
              "</style>\n",
              "<table border=\"1\" class=\"dataframe\">\n",
              "  <thead>\n",
              "    <tr style=\"text-align: right;\">\n",
              "      <th></th>\n",
              "      <th>GL account</th>\n",
              "      <th>Business Unit</th>\n",
              "      <th>Journal</th>\n",
              "      <th>VERS</th>\n",
              "      <th>Account No</th>\n",
              "      <th>Period</th>\n",
              "      <th>Sequence No</th>\n",
              "      <th>Post Date</th>\n",
              "      <th>PTIMEI</th>\n",
              "      <th>JNL_LNE</th>\n",
              "      <th>...</th>\n",
              "      <th>BAT_NAME</th>\n",
              "      <th>BAT CR DATE</th>\n",
              "      <th>BAT_CRTIMEI</th>\n",
              "      <th>BAT_CRUSER</th>\n",
              "      <th>BAT_CRTERM</th>\n",
              "      <th>SOURCE_ID</th>\n",
              "      <th>Source_Date</th>\n",
              "      <th>SOURCE_TIMEI</th>\n",
              "      <th>SOURCE_USER</th>\n",
              "      <th>POST_USER</th>\n",
              "    </tr>\n",
              "  </thead>\n",
              "  <tbody>\n",
              "    <tr>\n",
              "      <th>877694</th>\n",
              "      <td>NaN</td>\n",
              "      <td>NaN</td>\n",
              "      <td>NaN</td>\n",
              "      <td>NaN</td>\n",
              "      <td>NaN</td>\n",
              "      <td>NaN</td>\n",
              "      <td>NaN</td>\n",
              "      <td>NaN</td>\n",
              "      <td>NaN</td>\n",
              "      <td>NaN</td>\n",
              "      <td>...</td>\n",
              "      <td>NaN</td>\n",
              "      <td>NaN</td>\n",
              "      <td>NaN</td>\n",
              "      <td>NaN</td>\n",
              "      <td>NaN</td>\n",
              "      <td>NaN</td>\n",
              "      <td>NaN</td>\n",
              "      <td>NaN</td>\n",
              "      <td>NaN</td>\n",
              "      <td>NaN</td>\n",
              "    </tr>\n",
              "    <tr>\n",
              "      <th>1051253</th>\n",
              "      <td>GL account 643</td>\n",
              "      <td>Business Unit 278</td>\n",
              "      <td>Journal 1</td>\n",
              "      <td>VERS 1</td>\n",
              "      <td>Account No 48889</td>\n",
              "      <td>Period 12</td>\n",
              "      <td>25.0</td>\n",
              "      <td>28/06/2015</td>\n",
              "      <td>170049.0</td>\n",
              "      <td>50.0</td>\n",
              "      <td>...</td>\n",
              "      <td>BAT_NAME 520591</td>\n",
              "      <td>24/06/2015</td>\n",
              "      <td>170050.0</td>\n",
              "      <td>BAT_CRUSER 145</td>\n",
              "      <td>BAT_CRTERM 5</td>\n",
              "      <td>NaN</td>\n",
              "      <td>28/06/2015</td>\n",
              "      <td>0.0</td>\n",
              "      <td>NaN</td>\n",
              "      <td>POST_USER 145</td>\n",
              "    </tr>\n",
              "    <tr>\n",
              "      <th>1051254</th>\n",
              "      <td>GL account 643</td>\n",
              "      <td>Business Unit 278</td>\n",
              "      <td>Journal 1</td>\n",
              "      <td>VERS 1</td>\n",
              "      <td>Account No 48889</td>\n",
              "      <td>Period 12</td>\n",
              "      <td>28.0</td>\n",
              "      <td>28/06/2015</td>\n",
              "      <td>170049.0</td>\n",
              "      <td>56.0</td>\n",
              "      <td>...</td>\n",
              "      <td>BAT_NAME 520591</td>\n",
              "      <td>24/06/2015</td>\n",
              "      <td>170050.0</td>\n",
              "      <td>BAT_CRUSER 145</td>\n",
              "      <td>BAT_CRTERM 5</td>\n",
              "      <td>NaN</td>\n",
              "      <td>28/06/2015</td>\n",
              "      <td>0.0</td>\n",
              "      <td>NaN</td>\n",
              "      <td>POST_USER 145</td>\n",
              "    </tr>\n",
              "    <tr>\n",
              "      <th>1051255</th>\n",
              "      <td>GL account 643</td>\n",
              "      <td>Business Unit 278</td>\n",
              "      <td>Journal 1</td>\n",
              "      <td>VERS 1</td>\n",
              "      <td>Account No 48889</td>\n",
              "      <td>Period 12</td>\n",
              "      <td>29.0</td>\n",
              "      <td>28/06/2015</td>\n",
              "      <td>170049.0</td>\n",
              "      <td>58.0</td>\n",
              "      <td>...</td>\n",
              "      <td>BAT_NAME 520591</td>\n",
              "      <td>24/06/2015</td>\n",
              "      <td>170050.0</td>\n",
              "      <td>BAT_CRUSER 145</td>\n",
              "      <td>BAT_CRTERM 5</td>\n",
              "      <td>NaN</td>\n",
              "      <td>28/06/2015</td>\n",
              "      <td>0.0</td>\n",
              "      <td>NaN</td>\n",
              "      <td>POST_USER 145</td>\n",
              "    </tr>\n",
              "    <tr>\n",
              "      <th>1051256</th>\n",
              "      <td>GL account 643</td>\n",
              "      <td>Business Unit 278</td>\n",
              "      <td>Journal 1</td>\n",
              "      <td>VERS 1</td>\n",
              "      <td>Account No 48889</td>\n",
              "      <td>Period 12</td>\n",
              "      <td>30.0</td>\n",
              "      <td>28/06/2015</td>\n",
              "      <td>170049.0</td>\n",
              "      <td>60.0</td>\n",
              "      <td>...</td>\n",
              "      <td>BAT_NAME 520591</td>\n",
              "      <td>24/06/2015</td>\n",
              "      <td>170050.0</td>\n",
              "      <td>BAT_CRUSER 145</td>\n",
              "      <td>BAT_CRTERM 5</td>\n",
              "      <td>NaN</td>\n",
              "      <td>28/06/2015</td>\n",
              "      <td>0.0</td>\n",
              "      <td>NaN</td>\n",
              "      <td>POST_USER 145</td>\n",
              "    </tr>\n",
              "    <tr>\n",
              "      <th>...</th>\n",
              "      <td>...</td>\n",
              "      <td>...</td>\n",
              "      <td>...</td>\n",
              "      <td>...</td>\n",
              "      <td>...</td>\n",
              "      <td>...</td>\n",
              "      <td>...</td>\n",
              "      <td>...</td>\n",
              "      <td>...</td>\n",
              "      <td>...</td>\n",
              "      <td>...</td>\n",
              "      <td>...</td>\n",
              "      <td>...</td>\n",
              "      <td>...</td>\n",
              "      <td>...</td>\n",
              "      <td>...</td>\n",
              "      <td>...</td>\n",
              "      <td>...</td>\n",
              "      <td>...</td>\n",
              "      <td>...</td>\n",
              "      <td>...</td>\n",
              "    </tr>\n",
              "    <tr>\n",
              "      <th>7550312</th>\n",
              "      <td>GL account 530</td>\n",
              "      <td>Business Unit 282</td>\n",
              "      <td>Journal 1</td>\n",
              "      <td>VERS 1</td>\n",
              "      <td>Account No 48991</td>\n",
              "      <td>Period 1</td>\n",
              "      <td>1.0</td>\n",
              "      <td>3/08/2014</td>\n",
              "      <td>134008.0</td>\n",
              "      <td>4.0</td>\n",
              "      <td>...</td>\n",
              "      <td>BAT_NAME 520592</td>\n",
              "      <td>30/07/2014</td>\n",
              "      <td>134011.0</td>\n",
              "      <td>BAT_CRUSER 145</td>\n",
              "      <td>BAT_CRTERM 5</td>\n",
              "      <td>NaN</td>\n",
              "      <td>3/08/2014</td>\n",
              "      <td>0.0</td>\n",
              "      <td>NaN</td>\n",
              "      <td>POST_USER 145</td>\n",
              "    </tr>\n",
              "    <tr>\n",
              "      <th>7553246</th>\n",
              "      <td>GL account 272</td>\n",
              "      <td>Business Unit 105</td>\n",
              "      <td>Journal 1</td>\n",
              "      <td>VERS 1</td>\n",
              "      <td>Account No 36434</td>\n",
              "      <td>Period 5</td>\n",
              "      <td>1.0</td>\n",
              "      <td>29/11/2014</td>\n",
              "      <td>164635.0</td>\n",
              "      <td>2.0</td>\n",
              "      <td>...</td>\n",
              "      <td>BAT_NAME 520584</td>\n",
              "      <td>25/11/2014</td>\n",
              "      <td>164636.0</td>\n",
              "      <td>BAT_CRUSER 145</td>\n",
              "      <td>BAT_CRTERM 5</td>\n",
              "      <td>NaN</td>\n",
              "      <td>29/11/2014</td>\n",
              "      <td>0.0</td>\n",
              "      <td>NaN</td>\n",
              "      <td>POST_USER 145</td>\n",
              "    </tr>\n",
              "    <tr>\n",
              "      <th>7572477</th>\n",
              "      <td>GL account 303</td>\n",
              "      <td>Business Unit 282</td>\n",
              "      <td>Journal 1</td>\n",
              "      <td>VERS 1</td>\n",
              "      <td>Account No 49006</td>\n",
              "      <td>Period 2</td>\n",
              "      <td>2.0</td>\n",
              "      <td>3/09/2014</td>\n",
              "      <td>141851.0</td>\n",
              "      <td>4.0</td>\n",
              "      <td>...</td>\n",
              "      <td>BAT_NAME 520592</td>\n",
              "      <td>30/08/2014</td>\n",
              "      <td>141854.0</td>\n",
              "      <td>BAT_CRUSER 145</td>\n",
              "      <td>BAT_CRTERM 5</td>\n",
              "      <td>NaN</td>\n",
              "      <td>3/09/2014</td>\n",
              "      <td>0.0</td>\n",
              "      <td>NaN</td>\n",
              "      <td>POST_USER 145</td>\n",
              "    </tr>\n",
              "    <tr>\n",
              "      <th>7572478</th>\n",
              "      <td>GL account 303</td>\n",
              "      <td>Business Unit 282</td>\n",
              "      <td>Journal 1</td>\n",
              "      <td>VERS 1</td>\n",
              "      <td>Account No 49006</td>\n",
              "      <td>Period 1</td>\n",
              "      <td>1.0</td>\n",
              "      <td>3/08/2014</td>\n",
              "      <td>134008.0</td>\n",
              "      <td>2.0</td>\n",
              "      <td>...</td>\n",
              "      <td>BAT_NAME 520592</td>\n",
              "      <td>30/07/2014</td>\n",
              "      <td>134011.0</td>\n",
              "      <td>BAT_CRUSER 145</td>\n",
              "      <td>BAT_CRTERM 5</td>\n",
              "      <td>NaN</td>\n",
              "      <td>3/08/2014</td>\n",
              "      <td>0.0</td>\n",
              "      <td>NaN</td>\n",
              "      <td>POST_USER 145</td>\n",
              "    </tr>\n",
              "    <tr>\n",
              "      <th>7572479</th>\n",
              "      <td>GL account 303</td>\n",
              "      <td>Business Unit 282</td>\n",
              "      <td>Journal 1</td>\n",
              "      <td>VERS 1</td>\n",
              "      <td>Account No 49006</td>\n",
              "      <td>Period 2</td>\n",
              "      <td>1.0</td>\n",
              "      <td>3/09/2014</td>\n",
              "      <td>141851.0</td>\n",
              "      <td>2.0</td>\n",
              "      <td>...</td>\n",
              "      <td>BAT_NAME 520592</td>\n",
              "      <td>30/08/2014</td>\n",
              "      <td>141854.0</td>\n",
              "      <td>BAT_CRUSER 145</td>\n",
              "      <td>BAT_CRTERM 5</td>\n",
              "      <td>NaN</td>\n",
              "      <td>3/09/2014</td>\n",
              "      <td>0.0</td>\n",
              "      <td>NaN</td>\n",
              "      <td>POST_USER 145</td>\n",
              "    </tr>\n",
              "  </tbody>\n",
              "</table>\n",
              "<p>4149 rows × 23 columns</p>\n",
              "</div>\n",
              "      <button class=\"colab-df-convert\" onclick=\"convertToInteractive('df-54ba8434-4b63-453c-86e5-dc3f931414c5')\"\n",
              "              title=\"Convert this dataframe to an interactive table.\"\n",
              "              style=\"display:none;\">\n",
              "        \n",
              "  <svg xmlns=\"http://www.w3.org/2000/svg\" height=\"24px\"viewBox=\"0 0 24 24\"\n",
              "       width=\"24px\">\n",
              "    <path d=\"M0 0h24v24H0V0z\" fill=\"none\"/>\n",
              "    <path d=\"M18.56 5.44l.94 2.06.94-2.06 2.06-.94-2.06-.94-.94-2.06-.94 2.06-2.06.94zm-11 1L8.5 8.5l.94-2.06 2.06-.94-2.06-.94L8.5 2.5l-.94 2.06-2.06.94zm10 10l.94 2.06.94-2.06 2.06-.94-2.06-.94-.94-2.06-.94 2.06-2.06.94z\"/><path d=\"M17.41 7.96l-1.37-1.37c-.4-.4-.92-.59-1.43-.59-.52 0-1.04.2-1.43.59L10.3 9.45l-7.72 7.72c-.78.78-.78 2.05 0 2.83L4 21.41c.39.39.9.59 1.41.59.51 0 1.02-.2 1.41-.59l7.78-7.78 2.81-2.81c.8-.78.8-2.07 0-2.86zM5.41 20L4 18.59l7.72-7.72 1.47 1.35L5.41 20z\"/>\n",
              "  </svg>\n",
              "      </button>\n",
              "      \n",
              "  <style>\n",
              "    .colab-df-container {\n",
              "      display:flex;\n",
              "      flex-wrap:wrap;\n",
              "      gap: 12px;\n",
              "    }\n",
              "\n",
              "    .colab-df-convert {\n",
              "      background-color: #E8F0FE;\n",
              "      border: none;\n",
              "      border-radius: 50%;\n",
              "      cursor: pointer;\n",
              "      display: none;\n",
              "      fill: #1967D2;\n",
              "      height: 32px;\n",
              "      padding: 0 0 0 0;\n",
              "      width: 32px;\n",
              "    }\n",
              "\n",
              "    .colab-df-convert:hover {\n",
              "      background-color: #E2EBFA;\n",
              "      box-shadow: 0px 1px 2px rgba(60, 64, 67, 0.3), 0px 1px 3px 1px rgba(60, 64, 67, 0.15);\n",
              "      fill: #174EA6;\n",
              "    }\n",
              "\n",
              "    [theme=dark] .colab-df-convert {\n",
              "      background-color: #3B4455;\n",
              "      fill: #D2E3FC;\n",
              "    }\n",
              "\n",
              "    [theme=dark] .colab-df-convert:hover {\n",
              "      background-color: #434B5C;\n",
              "      box-shadow: 0px 1px 3px 1px rgba(0, 0, 0, 0.15);\n",
              "      filter: drop-shadow(0px 1px 2px rgba(0, 0, 0, 0.3));\n",
              "      fill: #FFFFFF;\n",
              "    }\n",
              "  </style>\n",
              "\n",
              "      <script>\n",
              "        const buttonEl =\n",
              "          document.querySelector('#df-54ba8434-4b63-453c-86e5-dc3f931414c5 button.colab-df-convert');\n",
              "        buttonEl.style.display =\n",
              "          google.colab.kernel.accessAllowed ? 'block' : 'none';\n",
              "\n",
              "        async function convertToInteractive(key) {\n",
              "          const element = document.querySelector('#df-54ba8434-4b63-453c-86e5-dc3f931414c5');\n",
              "          const dataTable =\n",
              "            await google.colab.kernel.invokeFunction('convertToInteractive',\n",
              "                                                     [key], {});\n",
              "          if (!dataTable) return;\n",
              "\n",
              "          const docLinkHtml = 'Like what you see? Visit the ' +\n",
              "            '<a target=\"_blank\" href=https://colab.research.google.com/notebooks/data_table.ipynb>data table notebook</a>'\n",
              "            + ' to learn more about interactive tables.';\n",
              "          element.innerHTML = '';\n",
              "          dataTable['output_type'] = 'display_data';\n",
              "          await google.colab.output.renderOutput(dataTable, element);\n",
              "          const docLink = document.createElement('div');\n",
              "          docLink.innerHTML = docLinkHtml;\n",
              "          element.appendChild(docLink);\n",
              "        }\n",
              "      </script>\n",
              "    </div>\n",
              "  </div>\n",
              "  "
            ]
          },
          "metadata": {},
          "execution_count": 30
        }
      ]
    },
    {
      "cell_type": "code",
      "source": [
        "#Dropping the row where all values are missing\n",
        "index=np.where(concatenated_data['Amount'].isnull())[0]\n",
        "concatenated_data=concatenated_data.drop(index)"
      ],
      "metadata": {
        "id": "Gi7WFxDAWMDm"
      },
      "execution_count": null,
      "outputs": []
    },
    {
      "cell_type": "code",
      "source": [
        "print(\"Number of missing values\\n\",concatenated_data.isnull().sum())"
      ],
      "metadata": {
        "colab": {
          "base_uri": "https://localhost:8080/"
        },
        "id": "nIxG68q3WMIe",
        "outputId": "fee9bbf8-6f7d-4549-9aef-663d78488ec2"
      },
      "execution_count": null,
      "outputs": [
        {
          "output_type": "stream",
          "name": "stdout",
          "text": [
            "Number of missing values\n",
            " GL account          0\n",
            "Business Unit       0\n",
            "Journal             0\n",
            "VERS                0\n",
            "Account No          0\n",
            "Period              0\n",
            "Sequence No         0\n",
            "Post Date           0\n",
            "PTIMEI              0\n",
            "JNL_LNE             0\n",
            "DOC_TYPE            0\n",
            "Doc Date            0\n",
            "Amount              0\n",
            "BAT_NAME            0\n",
            "BAT CR DATE         0\n",
            "BAT_CRTIMEI         0\n",
            "BAT_CRUSER          0\n",
            "BAT_CRTERM          0\n",
            "SOURCE_ID        4148\n",
            "Source_Date         0\n",
            "SOURCE_TIMEI        0\n",
            "SOURCE_USER      4148\n",
            "POST_USER           0\n",
            "dtype: int64\n"
          ]
        }
      ]
    },
    {
      "cell_type": "code",
      "source": [
        "#Missing values are only in source user and source id"
      ],
      "metadata": {
        "id": "0bIdy1BkWMON"
      },
      "execution_count": null,
      "outputs": []
    },
    {
      "cell_type": "markdown",
      "source": [
        "**Handling Missing Values**"
      ],
      "metadata": {
        "id": "X9snrV2MWMSt"
      }
    },
    {
      "cell_type": "code",
      "source": [
        "#High corelation was found in source user and post user. We will try and predict the values from this corelation"
      ],
      "metadata": {
        "id": "BlqlQ7l6WMYy"
      },
      "execution_count": null,
      "outputs": []
    },
    {
      "cell_type": "code",
      "source": [
        "concatenated_data=concatenated_data.reset_index()"
      ],
      "metadata": {
        "id": "3WJaPq6ielHt"
      },
      "execution_count": null,
      "outputs": []
    },
    {
      "cell_type": "code",
      "source": [
        "#Post user value where source user is missing\n",
        "idx=np.where(concatenated_data['SOURCE_USER'].isnull())[0]"
      ],
      "metadata": {
        "id": "rGMg5-oqWMeA"
      },
      "execution_count": null,
      "outputs": []
    },
    {
      "cell_type": "code",
      "source": [
        "concatenated_data.loc[idx]"
      ],
      "metadata": {
        "colab": {
          "base_uri": "https://localhost:8080/",
          "height": 424
        },
        "id": "tXhlhH72WMjv",
        "outputId": "33e74acd-7925-468f-e1f9-5a1a634ddc0f"
      },
      "execution_count": null,
      "outputs": [
        {
          "output_type": "execute_result",
          "data": {
            "text/plain": [
              "           index      GL account      Business Unit    Journal    VERS  \\\n",
              "1051251  1051253  GL account 643  Business Unit 278  Journal 1  VERS 1   \n",
              "1051252  1051254  GL account 643  Business Unit 278  Journal 1  VERS 1   \n",
              "1051253  1051255  GL account 643  Business Unit 278  Journal 1  VERS 1   \n",
              "1051254  1051256  GL account 643  Business Unit 278  Journal 1  VERS 1   \n",
              "1069499  1069501  GL account 643  Business Unit 278  Journal 1  VERS 1   \n",
              "...          ...             ...                ...        ...     ...   \n",
              "7550298  7550312  GL account 530  Business Unit 282  Journal 1  VERS 1   \n",
              "7553232  7553246  GL account 272  Business Unit 105  Journal 1  VERS 1   \n",
              "7572463  7572477  GL account 303  Business Unit 282  Journal 1  VERS 1   \n",
              "7572464  7572478  GL account 303  Business Unit 282  Journal 1  VERS 1   \n",
              "7572465  7572479  GL account 303  Business Unit 282  Journal 1  VERS 1   \n",
              "\n",
              "               Account No     Period  Sequence No   Post Date    PTIMEI  ...  \\\n",
              "1051251  Account No 48889  Period 12         25.0  28/06/2015  170049.0  ...   \n",
              "1051252  Account No 48889  Period 12         28.0  28/06/2015  170049.0  ...   \n",
              "1051253  Account No 48889  Period 12         29.0  28/06/2015  170049.0  ...   \n",
              "1051254  Account No 48889  Period 12         30.0  28/06/2015  170049.0  ...   \n",
              "1069499  Account No 48889  Period 12          2.0  28/06/2015  170049.0  ...   \n",
              "...                   ...        ...          ...         ...       ...  ...   \n",
              "7550298  Account No 48991   Period 1          1.0   3/08/2014  134008.0  ...   \n",
              "7553232  Account No 36434   Period 5          1.0  29/11/2014  164635.0  ...   \n",
              "7572463  Account No 49006   Period 2          2.0   3/09/2014  141851.0  ...   \n",
              "7572464  Account No 49006   Period 1          1.0   3/08/2014  134008.0  ...   \n",
              "7572465  Account No 49006   Period 2          1.0   3/09/2014  141851.0  ...   \n",
              "\n",
              "                BAT_NAME BAT CR DATE BAT_CRTIMEI      BAT_CRUSER  \\\n",
              "1051251  BAT_NAME 520591  24/06/2015    170050.0  BAT_CRUSER 145   \n",
              "1051252  BAT_NAME 520591  24/06/2015    170050.0  BAT_CRUSER 145   \n",
              "1051253  BAT_NAME 520591  24/06/2015    170050.0  BAT_CRUSER 145   \n",
              "1051254  BAT_NAME 520591  24/06/2015    170050.0  BAT_CRUSER 145   \n",
              "1069499  BAT_NAME 520591  24/06/2015    170050.0  BAT_CRUSER 145   \n",
              "...                  ...         ...         ...             ...   \n",
              "7550298  BAT_NAME 520592  30/07/2014    134011.0  BAT_CRUSER 145   \n",
              "7553232  BAT_NAME 520584  25/11/2014    164636.0  BAT_CRUSER 145   \n",
              "7572463  BAT_NAME 520592  30/08/2014    141854.0  BAT_CRUSER 145   \n",
              "7572464  BAT_NAME 520592  30/07/2014    134011.0  BAT_CRUSER 145   \n",
              "7572465  BAT_NAME 520592  30/08/2014    141854.0  BAT_CRUSER 145   \n",
              "\n",
              "           BAT_CRTERM SOURCE_ID  Source_Date SOURCE_TIMEI SOURCE_USER  \\\n",
              "1051251  BAT_CRTERM 5       NaN   28/06/2015          0.0         NaN   \n",
              "1051252  BAT_CRTERM 5       NaN   28/06/2015          0.0         NaN   \n",
              "1051253  BAT_CRTERM 5       NaN   28/06/2015          0.0         NaN   \n",
              "1051254  BAT_CRTERM 5       NaN   28/06/2015          0.0         NaN   \n",
              "1069499  BAT_CRTERM 5       NaN   28/06/2015          0.0         NaN   \n",
              "...               ...       ...          ...          ...         ...   \n",
              "7550298  BAT_CRTERM 5       NaN    3/08/2014          0.0         NaN   \n",
              "7553232  BAT_CRTERM 5       NaN   29/11/2014          0.0         NaN   \n",
              "7572463  BAT_CRTERM 5       NaN    3/09/2014          0.0         NaN   \n",
              "7572464  BAT_CRTERM 5       NaN    3/08/2014          0.0         NaN   \n",
              "7572465  BAT_CRTERM 5       NaN    3/09/2014          0.0         NaN   \n",
              "\n",
              "             POST_USER  \n",
              "1051251  POST_USER 145  \n",
              "1051252  POST_USER 145  \n",
              "1051253  POST_USER 145  \n",
              "1051254  POST_USER 145  \n",
              "1069499  POST_USER 145  \n",
              "...                ...  \n",
              "7550298  POST_USER 145  \n",
              "7553232  POST_USER 145  \n",
              "7572463  POST_USER 145  \n",
              "7572464  POST_USER 145  \n",
              "7572465  POST_USER 145  \n",
              "\n",
              "[4148 rows x 24 columns]"
            ],
            "text/html": [
              "\n",
              "  <div id=\"df-f87b1c73-d54c-46a2-b5f2-5322f429ef29\">\n",
              "    <div class=\"colab-df-container\">\n",
              "      <div>\n",
              "<style scoped>\n",
              "    .dataframe tbody tr th:only-of-type {\n",
              "        vertical-align: middle;\n",
              "    }\n",
              "\n",
              "    .dataframe tbody tr th {\n",
              "        vertical-align: top;\n",
              "    }\n",
              "\n",
              "    .dataframe thead th {\n",
              "        text-align: right;\n",
              "    }\n",
              "</style>\n",
              "<table border=\"1\" class=\"dataframe\">\n",
              "  <thead>\n",
              "    <tr style=\"text-align: right;\">\n",
              "      <th></th>\n",
              "      <th>index</th>\n",
              "      <th>GL account</th>\n",
              "      <th>Business Unit</th>\n",
              "      <th>Journal</th>\n",
              "      <th>VERS</th>\n",
              "      <th>Account No</th>\n",
              "      <th>Period</th>\n",
              "      <th>Sequence No</th>\n",
              "      <th>Post Date</th>\n",
              "      <th>PTIMEI</th>\n",
              "      <th>...</th>\n",
              "      <th>BAT_NAME</th>\n",
              "      <th>BAT CR DATE</th>\n",
              "      <th>BAT_CRTIMEI</th>\n",
              "      <th>BAT_CRUSER</th>\n",
              "      <th>BAT_CRTERM</th>\n",
              "      <th>SOURCE_ID</th>\n",
              "      <th>Source_Date</th>\n",
              "      <th>SOURCE_TIMEI</th>\n",
              "      <th>SOURCE_USER</th>\n",
              "      <th>POST_USER</th>\n",
              "    </tr>\n",
              "  </thead>\n",
              "  <tbody>\n",
              "    <tr>\n",
              "      <th>1051251</th>\n",
              "      <td>1051253</td>\n",
              "      <td>GL account 643</td>\n",
              "      <td>Business Unit 278</td>\n",
              "      <td>Journal 1</td>\n",
              "      <td>VERS 1</td>\n",
              "      <td>Account No 48889</td>\n",
              "      <td>Period 12</td>\n",
              "      <td>25.0</td>\n",
              "      <td>28/06/2015</td>\n",
              "      <td>170049.0</td>\n",
              "      <td>...</td>\n",
              "      <td>BAT_NAME 520591</td>\n",
              "      <td>24/06/2015</td>\n",
              "      <td>170050.0</td>\n",
              "      <td>BAT_CRUSER 145</td>\n",
              "      <td>BAT_CRTERM 5</td>\n",
              "      <td>NaN</td>\n",
              "      <td>28/06/2015</td>\n",
              "      <td>0.0</td>\n",
              "      <td>NaN</td>\n",
              "      <td>POST_USER 145</td>\n",
              "    </tr>\n",
              "    <tr>\n",
              "      <th>1051252</th>\n",
              "      <td>1051254</td>\n",
              "      <td>GL account 643</td>\n",
              "      <td>Business Unit 278</td>\n",
              "      <td>Journal 1</td>\n",
              "      <td>VERS 1</td>\n",
              "      <td>Account No 48889</td>\n",
              "      <td>Period 12</td>\n",
              "      <td>28.0</td>\n",
              "      <td>28/06/2015</td>\n",
              "      <td>170049.0</td>\n",
              "      <td>...</td>\n",
              "      <td>BAT_NAME 520591</td>\n",
              "      <td>24/06/2015</td>\n",
              "      <td>170050.0</td>\n",
              "      <td>BAT_CRUSER 145</td>\n",
              "      <td>BAT_CRTERM 5</td>\n",
              "      <td>NaN</td>\n",
              "      <td>28/06/2015</td>\n",
              "      <td>0.0</td>\n",
              "      <td>NaN</td>\n",
              "      <td>POST_USER 145</td>\n",
              "    </tr>\n",
              "    <tr>\n",
              "      <th>1051253</th>\n",
              "      <td>1051255</td>\n",
              "      <td>GL account 643</td>\n",
              "      <td>Business Unit 278</td>\n",
              "      <td>Journal 1</td>\n",
              "      <td>VERS 1</td>\n",
              "      <td>Account No 48889</td>\n",
              "      <td>Period 12</td>\n",
              "      <td>29.0</td>\n",
              "      <td>28/06/2015</td>\n",
              "      <td>170049.0</td>\n",
              "      <td>...</td>\n",
              "      <td>BAT_NAME 520591</td>\n",
              "      <td>24/06/2015</td>\n",
              "      <td>170050.0</td>\n",
              "      <td>BAT_CRUSER 145</td>\n",
              "      <td>BAT_CRTERM 5</td>\n",
              "      <td>NaN</td>\n",
              "      <td>28/06/2015</td>\n",
              "      <td>0.0</td>\n",
              "      <td>NaN</td>\n",
              "      <td>POST_USER 145</td>\n",
              "    </tr>\n",
              "    <tr>\n",
              "      <th>1051254</th>\n",
              "      <td>1051256</td>\n",
              "      <td>GL account 643</td>\n",
              "      <td>Business Unit 278</td>\n",
              "      <td>Journal 1</td>\n",
              "      <td>VERS 1</td>\n",
              "      <td>Account No 48889</td>\n",
              "      <td>Period 12</td>\n",
              "      <td>30.0</td>\n",
              "      <td>28/06/2015</td>\n",
              "      <td>170049.0</td>\n",
              "      <td>...</td>\n",
              "      <td>BAT_NAME 520591</td>\n",
              "      <td>24/06/2015</td>\n",
              "      <td>170050.0</td>\n",
              "      <td>BAT_CRUSER 145</td>\n",
              "      <td>BAT_CRTERM 5</td>\n",
              "      <td>NaN</td>\n",
              "      <td>28/06/2015</td>\n",
              "      <td>0.0</td>\n",
              "      <td>NaN</td>\n",
              "      <td>POST_USER 145</td>\n",
              "    </tr>\n",
              "    <tr>\n",
              "      <th>1069499</th>\n",
              "      <td>1069501</td>\n",
              "      <td>GL account 643</td>\n",
              "      <td>Business Unit 278</td>\n",
              "      <td>Journal 1</td>\n",
              "      <td>VERS 1</td>\n",
              "      <td>Account No 48889</td>\n",
              "      <td>Period 12</td>\n",
              "      <td>2.0</td>\n",
              "      <td>28/06/2015</td>\n",
              "      <td>170049.0</td>\n",
              "      <td>...</td>\n",
              "      <td>BAT_NAME 520591</td>\n",
              "      <td>24/06/2015</td>\n",
              "      <td>170050.0</td>\n",
              "      <td>BAT_CRUSER 145</td>\n",
              "      <td>BAT_CRTERM 5</td>\n",
              "      <td>NaN</td>\n",
              "      <td>28/06/2015</td>\n",
              "      <td>0.0</td>\n",
              "      <td>NaN</td>\n",
              "      <td>POST_USER 145</td>\n",
              "    </tr>\n",
              "    <tr>\n",
              "      <th>...</th>\n",
              "      <td>...</td>\n",
              "      <td>...</td>\n",
              "      <td>...</td>\n",
              "      <td>...</td>\n",
              "      <td>...</td>\n",
              "      <td>...</td>\n",
              "      <td>...</td>\n",
              "      <td>...</td>\n",
              "      <td>...</td>\n",
              "      <td>...</td>\n",
              "      <td>...</td>\n",
              "      <td>...</td>\n",
              "      <td>...</td>\n",
              "      <td>...</td>\n",
              "      <td>...</td>\n",
              "      <td>...</td>\n",
              "      <td>...</td>\n",
              "      <td>...</td>\n",
              "      <td>...</td>\n",
              "      <td>...</td>\n",
              "      <td>...</td>\n",
              "    </tr>\n",
              "    <tr>\n",
              "      <th>7550298</th>\n",
              "      <td>7550312</td>\n",
              "      <td>GL account 530</td>\n",
              "      <td>Business Unit 282</td>\n",
              "      <td>Journal 1</td>\n",
              "      <td>VERS 1</td>\n",
              "      <td>Account No 48991</td>\n",
              "      <td>Period 1</td>\n",
              "      <td>1.0</td>\n",
              "      <td>3/08/2014</td>\n",
              "      <td>134008.0</td>\n",
              "      <td>...</td>\n",
              "      <td>BAT_NAME 520592</td>\n",
              "      <td>30/07/2014</td>\n",
              "      <td>134011.0</td>\n",
              "      <td>BAT_CRUSER 145</td>\n",
              "      <td>BAT_CRTERM 5</td>\n",
              "      <td>NaN</td>\n",
              "      <td>3/08/2014</td>\n",
              "      <td>0.0</td>\n",
              "      <td>NaN</td>\n",
              "      <td>POST_USER 145</td>\n",
              "    </tr>\n",
              "    <tr>\n",
              "      <th>7553232</th>\n",
              "      <td>7553246</td>\n",
              "      <td>GL account 272</td>\n",
              "      <td>Business Unit 105</td>\n",
              "      <td>Journal 1</td>\n",
              "      <td>VERS 1</td>\n",
              "      <td>Account No 36434</td>\n",
              "      <td>Period 5</td>\n",
              "      <td>1.0</td>\n",
              "      <td>29/11/2014</td>\n",
              "      <td>164635.0</td>\n",
              "      <td>...</td>\n",
              "      <td>BAT_NAME 520584</td>\n",
              "      <td>25/11/2014</td>\n",
              "      <td>164636.0</td>\n",
              "      <td>BAT_CRUSER 145</td>\n",
              "      <td>BAT_CRTERM 5</td>\n",
              "      <td>NaN</td>\n",
              "      <td>29/11/2014</td>\n",
              "      <td>0.0</td>\n",
              "      <td>NaN</td>\n",
              "      <td>POST_USER 145</td>\n",
              "    </tr>\n",
              "    <tr>\n",
              "      <th>7572463</th>\n",
              "      <td>7572477</td>\n",
              "      <td>GL account 303</td>\n",
              "      <td>Business Unit 282</td>\n",
              "      <td>Journal 1</td>\n",
              "      <td>VERS 1</td>\n",
              "      <td>Account No 49006</td>\n",
              "      <td>Period 2</td>\n",
              "      <td>2.0</td>\n",
              "      <td>3/09/2014</td>\n",
              "      <td>141851.0</td>\n",
              "      <td>...</td>\n",
              "      <td>BAT_NAME 520592</td>\n",
              "      <td>30/08/2014</td>\n",
              "      <td>141854.0</td>\n",
              "      <td>BAT_CRUSER 145</td>\n",
              "      <td>BAT_CRTERM 5</td>\n",
              "      <td>NaN</td>\n",
              "      <td>3/09/2014</td>\n",
              "      <td>0.0</td>\n",
              "      <td>NaN</td>\n",
              "      <td>POST_USER 145</td>\n",
              "    </tr>\n",
              "    <tr>\n",
              "      <th>7572464</th>\n",
              "      <td>7572478</td>\n",
              "      <td>GL account 303</td>\n",
              "      <td>Business Unit 282</td>\n",
              "      <td>Journal 1</td>\n",
              "      <td>VERS 1</td>\n",
              "      <td>Account No 49006</td>\n",
              "      <td>Period 1</td>\n",
              "      <td>1.0</td>\n",
              "      <td>3/08/2014</td>\n",
              "      <td>134008.0</td>\n",
              "      <td>...</td>\n",
              "      <td>BAT_NAME 520592</td>\n",
              "      <td>30/07/2014</td>\n",
              "      <td>134011.0</td>\n",
              "      <td>BAT_CRUSER 145</td>\n",
              "      <td>BAT_CRTERM 5</td>\n",
              "      <td>NaN</td>\n",
              "      <td>3/08/2014</td>\n",
              "      <td>0.0</td>\n",
              "      <td>NaN</td>\n",
              "      <td>POST_USER 145</td>\n",
              "    </tr>\n",
              "    <tr>\n",
              "      <th>7572465</th>\n",
              "      <td>7572479</td>\n",
              "      <td>GL account 303</td>\n",
              "      <td>Business Unit 282</td>\n",
              "      <td>Journal 1</td>\n",
              "      <td>VERS 1</td>\n",
              "      <td>Account No 49006</td>\n",
              "      <td>Period 2</td>\n",
              "      <td>1.0</td>\n",
              "      <td>3/09/2014</td>\n",
              "      <td>141851.0</td>\n",
              "      <td>...</td>\n",
              "      <td>BAT_NAME 520592</td>\n",
              "      <td>30/08/2014</td>\n",
              "      <td>141854.0</td>\n",
              "      <td>BAT_CRUSER 145</td>\n",
              "      <td>BAT_CRTERM 5</td>\n",
              "      <td>NaN</td>\n",
              "      <td>3/09/2014</td>\n",
              "      <td>0.0</td>\n",
              "      <td>NaN</td>\n",
              "      <td>POST_USER 145</td>\n",
              "    </tr>\n",
              "  </tbody>\n",
              "</table>\n",
              "<p>4148 rows × 24 columns</p>\n",
              "</div>\n",
              "      <button class=\"colab-df-convert\" onclick=\"convertToInteractive('df-f87b1c73-d54c-46a2-b5f2-5322f429ef29')\"\n",
              "              title=\"Convert this dataframe to an interactive table.\"\n",
              "              style=\"display:none;\">\n",
              "        \n",
              "  <svg xmlns=\"http://www.w3.org/2000/svg\" height=\"24px\"viewBox=\"0 0 24 24\"\n",
              "       width=\"24px\">\n",
              "    <path d=\"M0 0h24v24H0V0z\" fill=\"none\"/>\n",
              "    <path d=\"M18.56 5.44l.94 2.06.94-2.06 2.06-.94-2.06-.94-.94-2.06-.94 2.06-2.06.94zm-11 1L8.5 8.5l.94-2.06 2.06-.94-2.06-.94L8.5 2.5l-.94 2.06-2.06.94zm10 10l.94 2.06.94-2.06 2.06-.94-2.06-.94-.94-2.06-.94 2.06-2.06.94z\"/><path d=\"M17.41 7.96l-1.37-1.37c-.4-.4-.92-.59-1.43-.59-.52 0-1.04.2-1.43.59L10.3 9.45l-7.72 7.72c-.78.78-.78 2.05 0 2.83L4 21.41c.39.39.9.59 1.41.59.51 0 1.02-.2 1.41-.59l7.78-7.78 2.81-2.81c.8-.78.8-2.07 0-2.86zM5.41 20L4 18.59l7.72-7.72 1.47 1.35L5.41 20z\"/>\n",
              "  </svg>\n",
              "      </button>\n",
              "      \n",
              "  <style>\n",
              "    .colab-df-container {\n",
              "      display:flex;\n",
              "      flex-wrap:wrap;\n",
              "      gap: 12px;\n",
              "    }\n",
              "\n",
              "    .colab-df-convert {\n",
              "      background-color: #E8F0FE;\n",
              "      border: none;\n",
              "      border-radius: 50%;\n",
              "      cursor: pointer;\n",
              "      display: none;\n",
              "      fill: #1967D2;\n",
              "      height: 32px;\n",
              "      padding: 0 0 0 0;\n",
              "      width: 32px;\n",
              "    }\n",
              "\n",
              "    .colab-df-convert:hover {\n",
              "      background-color: #E2EBFA;\n",
              "      box-shadow: 0px 1px 2px rgba(60, 64, 67, 0.3), 0px 1px 3px 1px rgba(60, 64, 67, 0.15);\n",
              "      fill: #174EA6;\n",
              "    }\n",
              "\n",
              "    [theme=dark] .colab-df-convert {\n",
              "      background-color: #3B4455;\n",
              "      fill: #D2E3FC;\n",
              "    }\n",
              "\n",
              "    [theme=dark] .colab-df-convert:hover {\n",
              "      background-color: #434B5C;\n",
              "      box-shadow: 0px 1px 3px 1px rgba(0, 0, 0, 0.15);\n",
              "      filter: drop-shadow(0px 1px 2px rgba(0, 0, 0, 0.3));\n",
              "      fill: #FFFFFF;\n",
              "    }\n",
              "  </style>\n",
              "\n",
              "      <script>\n",
              "        const buttonEl =\n",
              "          document.querySelector('#df-f87b1c73-d54c-46a2-b5f2-5322f429ef29 button.colab-df-convert');\n",
              "        buttonEl.style.display =\n",
              "          google.colab.kernel.accessAllowed ? 'block' : 'none';\n",
              "\n",
              "        async function convertToInteractive(key) {\n",
              "          const element = document.querySelector('#df-f87b1c73-d54c-46a2-b5f2-5322f429ef29');\n",
              "          const dataTable =\n",
              "            await google.colab.kernel.invokeFunction('convertToInteractive',\n",
              "                                                     [key], {});\n",
              "          if (!dataTable) return;\n",
              "\n",
              "          const docLinkHtml = 'Like what you see? Visit the ' +\n",
              "            '<a target=\"_blank\" href=https://colab.research.google.com/notebooks/data_table.ipynb>data table notebook</a>'\n",
              "            + ' to learn more about interactive tables.';\n",
              "          element.innerHTML = '';\n",
              "          dataTable['output_type'] = 'display_data';\n",
              "          await google.colab.output.renderOutput(dataTable, element);\n",
              "          const docLink = document.createElement('div');\n",
              "          docLink.innerHTML = docLinkHtml;\n",
              "          element.appendChild(docLink);\n",
              "        }\n",
              "      </script>\n",
              "    </div>\n",
              "  </div>\n",
              "  "
            ]
          },
          "metadata": {},
          "execution_count": 42
        }
      ]
    },
    {
      "cell_type": "code",
      "source": [
        "concatenated_data[\"POST_USER\"].loc[idx]"
      ],
      "metadata": {
        "colab": {
          "base_uri": "https://localhost:8080/"
        },
        "id": "N_zz7Wp6WMod",
        "outputId": "3bea0a35-c7f4-42fe-850f-e23ebf4f6726"
      },
      "execution_count": null,
      "outputs": [
        {
          "output_type": "execute_result",
          "data": {
            "text/plain": [
              "1051251    POST_USER 145\n",
              "1051252    POST_USER 145\n",
              "1051253    POST_USER 145\n",
              "1051254    POST_USER 145\n",
              "1069499    POST_USER 145\n",
              "               ...      \n",
              "7550298    POST_USER 145\n",
              "7553232    POST_USER 145\n",
              "7572463    POST_USER 145\n",
              "7572464    POST_USER 145\n",
              "7572465    POST_USER 145\n",
              "Name: POST_USER, Length: 4148, dtype: object"
            ]
          },
          "metadata": {},
          "execution_count": 43
        }
      ]
    },
    {
      "cell_type": "code",
      "source": [
        "np.unique( concatenated_data[\"POST_USER\"].loc[idx],return_counts=True)"
      ],
      "metadata": {
        "colab": {
          "base_uri": "https://localhost:8080/"
        },
        "id": "9nR7gDGWWMtE",
        "outputId": "960fd574-5d98-4e5a-cc18-7d70c0ec5ca4"
      },
      "execution_count": null,
      "outputs": [
        {
          "output_type": "execute_result",
          "data": {
            "text/plain": [
              "(array(['POST_USER 118', 'POST_USER 124', 'POST_USER 145', 'POST_USER 64',\n",
              "        'POST_USER 92'], dtype=object), array([   2,  183, 3928,    1,   34]))"
            ]
          },
          "metadata": {},
          "execution_count": 47
        }
      ]
    },
    {
      "cell_type": "code",
      "source": [
        "#Filling missing value with the mode of the Value of Source user and source at post user 145"
      ],
      "metadata": {
        "id": "OAz0tH6wWMyX"
      },
      "execution_count": null,
      "outputs": []
    },
    {
      "cell_type": "code",
      "source": [
        "rslt_df = concatenated_data[concatenated_data['POST_USER'] == \"POST_USER 145\"]"
      ],
      "metadata": {
        "id": "yktTi6VMfon2"
      },
      "execution_count": null,
      "outputs": []
    },
    {
      "cell_type": "code",
      "source": [
        "mode_source_user=rslt_df[\"SOURCE_USER\"].mode()"
      ],
      "metadata": {
        "id": "nukDYJbSfow3"
      },
      "execution_count": null,
      "outputs": []
    },
    {
      "cell_type": "code",
      "source": [
        "mode_source_user"
      ],
      "metadata": {
        "colab": {
          "base_uri": "https://localhost:8080/"
        },
        "id": "j1tBi7_hfo2X",
        "outputId": "0bb9b86b-938f-4ba4-cf19-8d100970977d"
      },
      "execution_count": null,
      "outputs": [
        {
          "output_type": "execute_result",
          "data": {
            "text/plain": [
              "0    SOURCE_USER 146\n",
              "dtype: object"
            ]
          },
          "metadata": {},
          "execution_count": 62
        }
      ]
    },
    {
      "cell_type": "code",
      "source": [
        "mode_source=rslt_df[\"SOURCE_ID\"].mode()"
      ],
      "metadata": {
        "id": "lms2GzLdoYed"
      },
      "execution_count": null,
      "outputs": []
    },
    {
      "cell_type": "code",
      "source": [
        "mode_source"
      ],
      "metadata": {
        "colab": {
          "base_uri": "https://localhost:8080/"
        },
        "id": "FI7UChNFrG5J",
        "outputId": "8ce7636c-7002-4e80-bd07-0190bf909dfc"
      },
      "execution_count": null,
      "outputs": [
        {
          "output_type": "execute_result",
          "data": {
            "text/plain": [
              "0    SOURCE_ID 7\n",
              "dtype: object"
            ]
          },
          "metadata": {},
          "execution_count": 76
        }
      ]
    },
    {
      "cell_type": "code",
      "source": [
        "concatenated_data[\"SOURCE_USER\"]=concatenated_data[\"SOURCE_USER\"].fillna(\"SOURCE_USER 146\")"
      ],
      "metadata": {
        "id": "pNmvTtncoZeZ"
      },
      "execution_count": null,
      "outputs": []
    },
    {
      "cell_type": "code",
      "source": [
        "concatenated_data[\"SOURCE_ID\"]=concatenated_data[\"SOURCE_ID\"].fillna(\"SOURCE_ID 7\")"
      ],
      "metadata": {
        "id": "1xKoagoFoZuC"
      },
      "execution_count": null,
      "outputs": []
    },
    {
      "cell_type": "code",
      "source": [
        "print(\"Missing Values Handled\\n\",concatenated_data.isna().sum())"
      ],
      "metadata": {
        "id": "opjq_Y7lOswq",
        "colab": {
          "base_uri": "https://localhost:8080/"
        },
        "outputId": "6980835b-7761-45c1-c605-dd6a7276c70d"
      },
      "execution_count": null,
      "outputs": [
        {
          "output_type": "stream",
          "name": "stdout",
          "text": [
            "Missing Values Handled\n",
            " GL account       0\n",
            "Business Unit    0\n",
            "Journal          0\n",
            "VERS             0\n",
            "Account No       0\n",
            "Period           0\n",
            "Sequence No      0\n",
            "Post Date        0\n",
            "PTIMEI           0\n",
            "JNL_LNE          0\n",
            "DOC_TYPE         0\n",
            "Doc Date         0\n",
            "Amount           0\n",
            "BAT_NAME         0\n",
            "BAT CR DATE      0\n",
            "BAT_CRTIMEI      0\n",
            "BAT_CRUSER       0\n",
            "BAT_CRTERM       0\n",
            "SOURCE_ID        0\n",
            "Source_Date      0\n",
            "SOURCE_TIMEI     0\n",
            "SOURCE_USER      0\n",
            "POST_USER        0\n",
            "dtype: int64\n"
          ]
        }
      ]
    },
    {
      "cell_type": "code",
      "source": [
        "#All missing values have been handled"
      ],
      "metadata": {
        "id": "_0ryH5wJOs11"
      },
      "execution_count": null,
      "outputs": []
    },
    {
      "cell_type": "code",
      "source": [
        "concatenated_data=concatenated_data.drop(\"index\",axis=1)"
      ],
      "metadata": {
        "id": "Cxto0qucOs60"
      },
      "execution_count": null,
      "outputs": []
    },
    {
      "cell_type": "markdown",
      "source": [
        "**Outliers**"
      ],
      "metadata": {
        "id": "mJHJVJzWrdLs"
      }
    },
    {
      "cell_type": "code",
      "source": [
        "import matplotlib.pyplot as plt\n",
        "plt.boxplot (concatenated_data[\"Amount\"])"
      ],
      "metadata": {
        "colab": {
          "base_uri": "https://localhost:8080/",
          "height": 415
        },
        "id": "WiTsCmY7sKRt",
        "outputId": "592ecd6a-4741-475d-e157-f7414bec1cd4"
      },
      "execution_count": null,
      "outputs": [
        {
          "output_type": "execute_result",
          "data": {
            "text/plain": [
              "{'boxes': [<matplotlib.lines.Line2D at 0x7f9f443cf690>],\n",
              " 'caps': [<matplotlib.lines.Line2D at 0x7f9f43af0c90>,\n",
              "  <matplotlib.lines.Line2D at 0x7f9f46409190>],\n",
              " 'fliers': [<matplotlib.lines.Line2D at 0x7f9f424a0190>],\n",
              " 'means': [],\n",
              " 'medians': [<matplotlib.lines.Line2D at 0x7f9f424a06d0>],\n",
              " 'whiskers': [<matplotlib.lines.Line2D at 0x7f9f43af0750>,\n",
              "  <matplotlib.lines.Line2D at 0x7f9f43af0d90>]}"
            ]
          },
          "metadata": {},
          "execution_count": 85
        },
        {
          "output_type": "display_data",
          "data": {
            "text/plain": [
              "<Figure size 432x288 with 1 Axes>"
            ],
            "image/png": "[encoded data removed]"
          },
          "metadata": {
            "needs_background": "light"
          }
        }
      ]
    },
    {
      "cell_type": "code",
      "source": [
        "from scipy.stats import zscore\n",
        "z_scores = zscore(concatenated_data[\"Amount\"])\n",
        "abs_z_scores = np.abs(z_scores)\n",
        "filtered_entries = (abs_z_scores < 5)\n",
        "z=concatenated_data[filtered_entries]"
      ],
      "metadata": {
        "id": "DF8g5VDerdSK"
      },
      "execution_count": null,
      "outputs": []
    },
    {
      "cell_type": "code",
      "source": [
        "concatenated_data.shape[0]-z.shape[0]"
      ],
      "metadata": {
        "colab": {
          "base_uri": "https://localhost:8080/"
        },
        "id": "lAhWyN_DrdZM",
        "outputId": "6fc8551e-b258-430b-ab48-c73504b9ceb3"
      },
      "execution_count": null,
      "outputs": [
        {
          "output_type": "execute_result",
          "data": {
            "text/plain": [
              "1715"
            ]
          },
          "metadata": {},
          "execution_count": 87
        }
      ]
    },
    {
      "cell_type": "code",
      "source": [
        "outlier_entries = (abs_z_scores >=5)\n",
        "outlier_data=concatenated_data[outlier_entries]\n",
        "outlier_data.head()"
      ],
      "metadata": {
        "colab": {
          "base_uri": "https://localhost:8080/",
          "height": 236
        },
        "id": "1PscCCMgrdfY",
        "outputId": "94087310-e54a-4adc-8573-c5bc4ecd3973"
      },
      "execution_count": null,
      "outputs": [
        {
          "output_type": "execute_result",
          "data": {
            "text/plain": [
              "            GL account      Business Unit    Journal    VERS  \\\n",
              "98534   GL account 650  Business Unit 276  Journal 2  VERS 1   \n",
              "159695  GL account 779  Business Unit 276  Journal 1  VERS 1   \n",
              "169499  GL account 779   Business Unit 22  Journal 2  VERS 1   \n",
              "221525  GL account 710    Business Unit 8  Journal 2  VERS 1   \n",
              "238988  GL account 779  Business Unit 276  Journal 1  VERS 1   \n",
              "\n",
              "              Account No     Period  Sequence No   Post Date    PTIMEI  \\\n",
              "98534   Account No 48091   Period 7          1.0  16/01/2015  110430.0   \n",
              "159695  Account No 48169   Period 7       9266.0  16/01/2015  165423.0   \n",
              "169499  Account No 13304  Period 12          1.0  12/07/2015  140354.0   \n",
              "221525   Account No 3646  Period 12          1.0  12/07/2015  140354.0   \n",
              "238988  Account No 48169   Period 4        643.0   4/10/2014  101938.0   \n",
              "\n",
              "        JNL_LNE  ...         BAT_NAME BAT CR DATE  BAT_CRTIMEI  \\\n",
              "98534       3.0  ...  BAT_NAME 274279  12/01/2015     110416.0   \n",
              "159695    205.0  ...  BAT_NAME 274649  12/01/2015     165355.0   \n",
              "169499      6.0  ...  BAT_NAME 520512   8/07/2015     140304.0   \n",
              "221525      3.0  ...  BAT_NAME 520512   8/07/2015     140304.0   \n",
              "238988    181.0  ...  BAT_NAME 132701  30/09/2014     101752.0   \n",
              "\n",
              "            BAT_CRUSER    BAT_CRTERM    SOURCE_ID Source_Date SOURCE_TIMEI  \\\n",
              "98534    BAT_CRUSER 64  BAT_CRTERM 4  SOURCE_ID 5  16/01/2015     110417.0   \n",
              "159695  BAT_CRUSER 124  BAT_CRTERM 4  SOURCE_ID 7  16/01/2015     165423.0   \n",
              "169499  BAT_CRUSER 109  BAT_CRTERM 4  SOURCE_ID 5  12/07/2015     140304.0   \n",
              "221525  BAT_CRUSER 109  BAT_CRTERM 4  SOURCE_ID 5  12/07/2015     140304.0   \n",
              "238988  BAT_CRUSER 145  BAT_CRTERM 1  SOURCE_ID 7   4/10/2014     101938.0   \n",
              "\n",
              "            SOURCE_USER      POST_USER  \n",
              "98534    SOURCE_USER 65   POST_USER 64  \n",
              "159695  SOURCE_USER 125  POST_USER 124  \n",
              "169499  SOURCE_USER 110  POST_USER 109  \n",
              "221525  SOURCE_USER 110  POST_USER 109  \n",
              "238988  SOURCE_USER 146  POST_USER 145  \n",
              "\n",
              "[5 rows x 23 columns]"
            ],
            "text/html": [
              "\n",
              "  <div id=\"df-4cb2ddb5-02db-4084-8eb2-ebdc8e29a8f7\">\n",
              "    <div class=\"colab-df-container\">\n",
              "      <div>\n",
              "<style scoped>\n",
              "    .dataframe tbody tr th:only-of-type {\n",
              "        vertical-align: middle;\n",
              "    }\n",
              "\n",
              "    .dataframe tbody tr th {\n",
              "        vertical-align: top;\n",
              "    }\n",
              "\n",
              "    .dataframe thead th {\n",
              "        text-align: right;\n",
              "    }\n",
              "</style>\n",
              "<table border=\"1\" class=\"dataframe\">\n",
              "  <thead>\n",
              "    <tr style=\"text-align: right;\">\n",
              "      <th></th>\n",
              "      <th>GL account</th>\n",
              "      <th>Business Unit</th>\n",
              "      <th>Journal</th>\n",
              "      <th>VERS</th>\n",
              "      <th>Account No</th>\n",
              "      <th>Period</th>\n",
              "      <th>Sequence No</th>\n",
              "      <th>Post Date</th>\n",
              "      <th>PTIMEI</th>\n",
              "      <th>JNL_LNE</th>\n",
              "      <th>...</th>\n",
              "      <th>BAT_NAME</th>\n",
              "      <th>BAT CR DATE</th>\n",
              "      <th>BAT_CRTIMEI</th>\n",
              "      <th>BAT_CRUSER</th>\n",
              "      <th>BAT_CRTERM</th>\n",
              "      <th>SOURCE_ID</th>\n",
              "      <th>Source_Date</th>\n",
              "      <th>SOURCE_TIMEI</th>\n",
              "      <th>SOURCE_USER</th>\n",
              "      <th>POST_USER</th>\n",
              "    </tr>\n",
              "  </thead>\n",
              "  <tbody>\n",
              "    <tr>\n",
              "      <th>98534</th>\n",
              "      <td>GL account 650</td>\n",
              "      <td>Business Unit 276</td>\n",
              "      <td>Journal 2</td>\n",
              "      <td>VERS 1</td>\n",
              "      <td>Account No 48091</td>\n",
              "      <td>Period 7</td>\n",
              "      <td>1.0</td>\n",
              "      <td>16/01/2015</td>\n",
              "      <td>110430.0</td>\n",
              "      <td>3.0</td>\n",
              "      <td>...</td>\n",
              "      <td>BAT_NAME 274279</td>\n",
              "      <td>12/01/2015</td>\n",
              "      <td>110416.0</td>\n",
              "      <td>BAT_CRUSER 64</td>\n",
              "      <td>BAT_CRTERM 4</td>\n",
              "      <td>SOURCE_ID 5</td>\n",
              "      <td>16/01/2015</td>\n",
              "      <td>110417.0</td>\n",
              "      <td>SOURCE_USER 65</td>\n",
              "      <td>POST_USER 64</td>\n",
              "    </tr>\n",
              "    <tr>\n",
              "      <th>159695</th>\n",
              "      <td>GL account 779</td>\n",
              "      <td>Business Unit 276</td>\n",
              "      <td>Journal 1</td>\n",
              "      <td>VERS 1</td>\n",
              "      <td>Account No 48169</td>\n",
              "      <td>Period 7</td>\n",
              "      <td>9266.0</td>\n",
              "      <td>16/01/2015</td>\n",
              "      <td>165423.0</td>\n",
              "      <td>205.0</td>\n",
              "      <td>...</td>\n",
              "      <td>BAT_NAME 274649</td>\n",
              "      <td>12/01/2015</td>\n",
              "      <td>165355.0</td>\n",
              "      <td>BAT_CRUSER 124</td>\n",
              "      <td>BAT_CRTERM 4</td>\n",
              "      <td>SOURCE_ID 7</td>\n",
              "      <td>16/01/2015</td>\n",
              "      <td>165423.0</td>\n",
              "      <td>SOURCE_USER 125</td>\n",
              "      <td>POST_USER 124</td>\n",
              "    </tr>\n",
              "    <tr>\n",
              "      <th>169499</th>\n",
              "      <td>GL account 779</td>\n",
              "      <td>Business Unit 22</td>\n",
              "      <td>Journal 2</td>\n",
              "      <td>VERS 1</td>\n",
              "      <td>Account No 13304</td>\n",
              "      <td>Period 12</td>\n",
              "      <td>1.0</td>\n",
              "      <td>12/07/2015</td>\n",
              "      <td>140354.0</td>\n",
              "      <td>6.0</td>\n",
              "      <td>...</td>\n",
              "      <td>BAT_NAME 520512</td>\n",
              "      <td>8/07/2015</td>\n",
              "      <td>140304.0</td>\n",
              "      <td>BAT_CRUSER 109</td>\n",
              "      <td>BAT_CRTERM 4</td>\n",
              "      <td>SOURCE_ID 5</td>\n",
              "      <td>12/07/2015</td>\n",
              "      <td>140304.0</td>\n",
              "      <td>SOURCE_USER 110</td>\n",
              "      <td>POST_USER 109</td>\n",
              "    </tr>\n",
              "    <tr>\n",
              "      <th>221525</th>\n",
              "      <td>GL account 710</td>\n",
              "      <td>Business Unit 8</td>\n",
              "      <td>Journal 2</td>\n",
              "      <td>VERS 1</td>\n",
              "      <td>Account No 3646</td>\n",
              "      <td>Period 12</td>\n",
              "      <td>1.0</td>\n",
              "      <td>12/07/2015</td>\n",
              "      <td>140354.0</td>\n",
              "      <td>3.0</td>\n",
              "      <td>...</td>\n",
              "      <td>BAT_NAME 520512</td>\n",
              "      <td>8/07/2015</td>\n",
              "      <td>140304.0</td>\n",
              "      <td>BAT_CRUSER 109</td>\n",
              "      <td>BAT_CRTERM 4</td>\n",
              "      <td>SOURCE_ID 5</td>\n",
              "      <td>12/07/2015</td>\n",
              "      <td>140304.0</td>\n",
              "      <td>SOURCE_USER 110</td>\n",
              "      <td>POST_USER 109</td>\n",
              "    </tr>\n",
              "    <tr>\n",
              "      <th>238988</th>\n",
              "      <td>GL account 779</td>\n",
              "      <td>Business Unit 276</td>\n",
              "      <td>Journal 1</td>\n",
              "      <td>VERS 1</td>\n",
              "      <td>Account No 48169</td>\n",
              "      <td>Period 4</td>\n",
              "      <td>643.0</td>\n",
              "      <td>4/10/2014</td>\n",
              "      <td>101938.0</td>\n",
              "      <td>181.0</td>\n",
              "      <td>...</td>\n",
              "      <td>BAT_NAME 132701</td>\n",
              "      <td>30/09/2014</td>\n",
              "      <td>101752.0</td>\n",
              "      <td>BAT_CRUSER 145</td>\n",
              "      <td>BAT_CRTERM 1</td>\n",
              "      <td>SOURCE_ID 7</td>\n",
              "      <td>4/10/2014</td>\n",
              "      <td>101938.0</td>\n",
              "      <td>SOURCE_USER 146</td>\n",
              "      <td>POST_USER 145</td>\n",
              "    </tr>\n",
              "  </tbody>\n",
              "</table>\n",
              "<p>5 rows × 23 columns</p>\n",
              "</div>\n",
              "      <button class=\"colab-df-convert\" onclick=\"convertToInteractive('df-4cb2ddb5-02db-4084-8eb2-ebdc8e29a8f7')\"\n",
              "              title=\"Convert this dataframe to an interactive table.\"\n",
              "              style=\"display:none;\">\n",
              "        \n",
              "  <svg xmlns=\"http://www.w3.org/2000/svg\" height=\"24px\"viewBox=\"0 0 24 24\"\n",
              "       width=\"24px\">\n",
              "    <path d=\"M0 0h24v24H0V0z\" fill=\"none\"/>\n",
              "    <path d=\"M18.56 5.44l.94 2.06.94-2.06 2.06-.94-2.06-.94-.94-2.06-.94 2.06-2.06.94zm-11 1L8.5 8.5l.94-2.06 2.06-.94-2.06-.94L8.5 2.5l-.94 2.06-2.06.94zm10 10l.94 2.06.94-2.06 2.06-.94-2.06-.94-.94-2.06-.94 2.06-2.06.94z\"/><path d=\"M17.41 7.96l-1.37-1.37c-.4-.4-.92-.59-1.43-.59-.52 0-1.04.2-1.43.59L10.3 9.45l-7.72 7.72c-.78.78-.78 2.05 0 2.83L4 21.41c.39.39.9.59 1.41.59.51 0 1.02-.2 1.41-.59l7.78-7.78 2.81-2.81c.8-.78.8-2.07 0-2.86zM5.41 20L4 18.59l7.72-7.72 1.47 1.35L5.41 20z\"/>\n",
              "  </svg>\n",
              "      </button>\n",
              "      \n",
              "  <style>\n",
              "    .colab-df-container {\n",
              "      display:flex;\n",
              "      flex-wrap:wrap;\n",
              "      gap: 12px;\n",
              "    }\n",
              "\n",
              "    .colab-df-convert {\n",
              "      background-color: #E8F0FE;\n",
              "      border: none;\n",
              "      border-radius: 50%;\n",
              "      cursor: pointer;\n",
              "      display: none;\n",
              "      fill: #1967D2;\n",
              "      height: 32px;\n",
              "      padding: 0 0 0 0;\n",
              "      width: 32px;\n",
              "    }\n",
              "\n",
              "    .colab-df-convert:hover {\n",
              "      background-color: #E2EBFA;\n",
              "      box-shadow: 0px 1px 2px rgba(60, 64, 67, 0.3), 0px 1px 3px 1px rgba(60, 64, 67, 0.15);\n",
              "      fill: #174EA6;\n",
              "    }\n",
              "\n",
              "    [theme=dark] .colab-df-convert {\n",
              "      background-color: #3B4455;\n",
              "      fill: #D2E3FC;\n",
              "    }\n",
              "\n",
              "    [theme=dark] .colab-df-convert:hover {\n",
              "      background-color: #434B5C;\n",
              "      box-shadow: 0px 1px 3px 1px rgba(0, 0, 0, 0.15);\n",
              "      filter: drop-shadow(0px 1px 2px rgba(0, 0, 0, 0.3));\n",
              "      fill: #FFFFFF;\n",
              "    }\n",
              "  </style>\n",
              "\n",
              "      <script>\n",
              "        const buttonEl =\n",
              "          document.querySelector('#df-4cb2ddb5-02db-4084-8eb2-ebdc8e29a8f7 button.colab-df-convert');\n",
              "        buttonEl.style.display =\n",
              "          google.colab.kernel.accessAllowed ? 'block' : 'none';\n",
              "\n",
              "        async function convertToInteractive(key) {\n",
              "          const element = document.querySelector('#df-4cb2ddb5-02db-4084-8eb2-ebdc8e29a8f7');\n",
              "          const dataTable =\n",
              "            await google.colab.kernel.invokeFunction('convertToInteractive',\n",
              "                                                     [key], {});\n",
              "          if (!dataTable) return;\n",
              "\n",
              "          const docLinkHtml = 'Like what you see? Visit the ' +\n",
              "            '<a target=\"_blank\" href=https://colab.research.google.com/notebooks/data_table.ipynb>data table notebook</a>'\n",
              "            + ' to learn more about interactive tables.';\n",
              "          element.innerHTML = '';\n",
              "          dataTable['output_type'] = 'display_data';\n",
              "          await google.colab.output.renderOutput(dataTable, element);\n",
              "          const docLink = document.createElement('div');\n",
              "          docLink.innerHTML = docLinkHtml;\n",
              "          element.appendChild(docLink);\n",
              "        }\n",
              "      </script>\n",
              "    </div>\n",
              "  </div>\n",
              "  "
            ]
          },
          "metadata": {},
          "execution_count": 88
        }
      ]
    },
    {
      "cell_type": "code",
      "source": [
        "outlier_data.nunique()"
      ],
      "metadata": {
        "colab": {
          "base_uri": "https://localhost:8080/"
        },
        "id": "atszPc30rdk-",
        "outputId": "8cf591d6-0b25-4cc7-ba96-87b953bb578b"
      },
      "execution_count": null,
      "outputs": [
        {
          "output_type": "execute_result",
          "data": {
            "text/plain": [
              "GL account       127\n",
              "Business Unit     64\n",
              "Journal            2\n",
              "VERS               3\n",
              "Account No       374\n",
              "Period            13\n",
              "Sequence No      695\n",
              "Post Date        193\n",
              "PTIMEI           485\n",
              "JNL_LNE          310\n",
              "DOC_TYPE          14\n",
              "Doc Date         245\n",
              "Amount           986\n",
              "BAT_NAME         454\n",
              "BAT CR DATE      193\n",
              "BAT_CRTIMEI      485\n",
              "BAT_CRUSER        28\n",
              "BAT_CRTERM         4\n",
              "SOURCE_ID          4\n",
              "Source_Date      193\n",
              "SOURCE_TIMEI     670\n",
              "SOURCE_USER       28\n",
              "POST_USER         28\n",
              "dtype: int64"
            ]
          },
          "metadata": {},
          "execution_count": 89
        }
      ]
    },
    {
      "cell_type": "code",
      "source": [
        "concatenated_data=concatenated_data[filtered_entries]"
      ],
      "metadata": {
        "id": "nk3Jgvjdrdq4"
      },
      "execution_count": null,
      "outputs": []
    },
    {
      "cell_type": "markdown",
      "source": [
        "**Feature Engineering**"
      ],
      "metadata": {
        "id": "kpFGgwX4rdwf"
      }
    },
    {
      "cell_type": "code",
      "source": [
        "#Based on the data understanding we can convert jounal column into a numerical column with 0 or 1, journal 1-0, journal 2-1"
      ],
      "metadata": {
        "id": "V7rGr9xftslQ"
      },
      "execution_count": null,
      "outputs": []
    },
    {
      "cell_type": "code",
      "source": [
        "a=np.array(concatenated_data[\"Journal\"])\n",
        "b=[0]*len(a)\n",
        "for i in range (len(a)):\n",
        "  if a[i]==\"Journal 2\":\n",
        "    b[i]=1\n",
        "\n",
        "concatenated_data[\"Journal_numerical\"]=b\n",
        "concatenated_data=concatenated_data.drop(\"Journal\",axis=1)"
      ],
      "metadata": {
        "id": "chmqKo6Itsqy"
      },
      "execution_count": null,
      "outputs": []
    },
    {
      "cell_type": "code",
      "source": [
        "#Based on infromation provided converting int value of jnl_lne to string"
      ],
      "metadata": {
        "id": "EEUWpIvwwjXC"
      },
      "execution_count": null,
      "outputs": []
    },
    {
      "cell_type": "code",
      "source": [
        "int_list=np.array(concatenated_data[\"JNL_LNE\"])"
      ],
      "metadata": {
        "id": "_0NvyUzKvR-s"
      },
      "execution_count": null,
      "outputs": []
    },
    {
      "cell_type": "code",
      "source": [
        "str_list=[]\n",
        "for i in int_list:\n",
        "  str_list.append(str(i))"
      ],
      "metadata": {
        "id": "cp9GnO_bveCG"
      },
      "execution_count": null,
      "outputs": []
    },
    {
      "cell_type": "code",
      "source": [
        "concatenated_data[\"JNL_LNE_str\"]=str_list"
      ],
      "metadata": {
        "id": "fxzsbfUlvSFI"
      },
      "execution_count": null,
      "outputs": []
    },
    {
      "cell_type": "code",
      "source": [
        "concatenated_data=concatenated_data.drop(\"JNL_LNE\",axis=1)"
      ],
      "metadata": {
        "id": "DY_kAPVTwQrM"
      },
      "execution_count": null,
      "outputs": []
    },
    {
      "cell_type": "markdown",
      "source": [
        "Manual Anomalies"
      ],
      "metadata": {
        "id": "I3bTHqn_tsvv"
      }
    },
    {
      "cell_type": "code",
      "source": [
        ""
      ],
      "metadata": {
        "id": "8MH0gsoSreFT"
      },
      "execution_count": null,
      "outputs": []
    },
    {
      "cell_type": "code",
      "source": [
        ""
      ],
      "metadata": {
        "id": "y3qa1Tl6reJ9"
      },
      "execution_count": null,
      "outputs": []
    },
    {
      "cell_type": "markdown",
      "source": [
        "#Model Building"
      ],
      "metadata": {
        "id": "YyuWS0CfreOm"
      }
    },
    {
      "cell_type": "code",
      "execution_count": null,
      "metadata": {
        "id": "OLG0SwQVgpv8"
      },
      "outputs": [],
      "source": [
        "df=concatenated_data[[\"Journal_numerical\", \"GL account\", \"Account No\", \"BAT_NAME\",\"JNL_LNE_str\",\"Period\",\"SOURCE_USER\",\"POST_USER\",\"Amount\"]] #Selecting important features for model building"
      ]
    },
    {
      "cell_type": "code",
      "execution_count": null,
      "metadata": {
        "id": "qU5in-HtmLjf"
      },
      "outputs": [],
      "source": [
        "#Normalizing amount\n",
        "amount=df[\"Amount\"].values\n",
        "df['Amount_Z'] = zscore(df['Amount'])\n",
        "df=df.drop(\"Amount\", axis=1)"
      ]
    },
    {
      "cell_type": "code",
      "execution_count": null,
      "metadata": {
        "colab": {
          "base_uri": "https://localhost:8080/",
          "height": 207
        },
        "id": "xt9wVW5Bma0L",
        "outputId": "9c698b4f-1967-4a86-d6c6-2b2147cb8510"
      },
      "outputs": [
        {
          "output_type": "execute_result",
          "data": {
            "text/plain": [
              "   Journal_numerical      GL account        Account No         BAT_NAME  \\\n",
              "0                  0  GL account 197  Account No 28386  BAT_NAME 517750   \n",
              "1                  0  GL account 197  Account No 28386  BAT_NAME 517750   \n",
              "2                  0  GL account 197  Account No 28386  BAT_NAME 514862   \n",
              "3                  0  GL account 197  Account No 28386  BAT_NAME 514862   \n",
              "4                  0  GL account 197  Account No 28386  BAT_NAME 514862   \n",
              "\n",
              "  JNL_LNE_str     Period     SOURCE_USER     POST_USER  Amount_Z  \n",
              "0         3.0  Period 12  SOURCE_USER 61  POST_USER 60  0.001294  \n",
              "1         4.0  Period 12  SOURCE_USER 61  POST_USER 60 -0.000904  \n",
              "2         2.0  Period 12  SOURCE_USER 61  POST_USER 60  0.004662  \n",
              "3         3.0  Period 12  SOURCE_USER 61  POST_USER 60  0.002786  \n",
              "4         4.0  Period 12  SOURCE_USER 61  POST_USER 60 -0.002396  "
            ],
            "text/html": [
              "\n",
              "  <div id=\"df-1c255a65-471f-4157-910a-d585529ef10a\">\n",
              "    <div class=\"colab-df-container\">\n",
              "      <div>\n",
              "<style scoped>\n",
              "    .dataframe tbody tr th:only-of-type {\n",
              "        vertical-align: middle;\n",
              "    }\n",
              "\n",
              "    .dataframe tbody tr th {\n",
              "        vertical-align: top;\n",
              "    }\n",
              "\n",
              "    .dataframe thead th {\n",
              "        text-align: right;\n",
              "    }\n",
              "</style>\n",
              "<table border=\"1\" class=\"dataframe\">\n",
              "  <thead>\n",
              "    <tr style=\"text-align: right;\">\n",
              "      <th></th>\n",
              "      <th>Journal_numerical</th>\n",
              "      <th>GL account</th>\n",
              "      <th>Account No</th>\n",
              "      <th>BAT_NAME</th>\n",
              "      <th>JNL_LNE_str</th>\n",
              "      <th>Period</th>\n",
              "      <th>SOURCE_USER</th>\n",
              "      <th>POST_USER</th>\n",
              "      <th>Amount_Z</th>\n",
              "    </tr>\n",
              "  </thead>\n",
              "  <tbody>\n",
              "    <tr>\n",
              "      <th>0</th>\n",
              "      <td>0</td>\n",
              "      <td>GL account 197</td>\n",
              "      <td>Account No 28386</td>\n",
              "      <td>BAT_NAME 517750</td>\n",
              "      <td>3.0</td>\n",
              "      <td>Period 12</td>\n",
              "      <td>SOURCE_USER 61</td>\n",
              "      <td>POST_USER 60</td>\n",
              "      <td>0.001294</td>\n",
              "    </tr>\n",
              "    <tr>\n",
              "      <th>1</th>\n",
              "      <td>0</td>\n",
              "      <td>GL account 197</td>\n",
              "      <td>Account No 28386</td>\n",
              "      <td>BAT_NAME 517750</td>\n",
              "      <td>4.0</td>\n",
              "      <td>Period 12</td>\n",
              "      <td>SOURCE_USER 61</td>\n",
              "      <td>POST_USER 60</td>\n",
              "      <td>-0.000904</td>\n",
              "    </tr>\n",
              "    <tr>\n",
              "      <th>2</th>\n",
              "      <td>0</td>\n",
              "      <td>GL account 197</td>\n",
              "      <td>Account No 28386</td>\n",
              "      <td>BAT_NAME 514862</td>\n",
              "      <td>2.0</td>\n",
              "      <td>Period 12</td>\n",
              "      <td>SOURCE_USER 61</td>\n",
              "      <td>POST_USER 60</td>\n",
              "      <td>0.004662</td>\n",
              "    </tr>\n",
              "    <tr>\n",
              "      <th>3</th>\n",
              "      <td>0</td>\n",
              "      <td>GL account 197</td>\n",
              "      <td>Account No 28386</td>\n",
              "      <td>BAT_NAME 514862</td>\n",
              "      <td>3.0</td>\n",
              "      <td>Period 12</td>\n",
              "      <td>SOURCE_USER 61</td>\n",
              "      <td>POST_USER 60</td>\n",
              "      <td>0.002786</td>\n",
              "    </tr>\n",
              "    <tr>\n",
              "      <th>4</th>\n",
              "      <td>0</td>\n",
              "      <td>GL account 197</td>\n",
              "      <td>Account No 28386</td>\n",
              "      <td>BAT_NAME 514862</td>\n",
              "      <td>4.0</td>\n",
              "      <td>Period 12</td>\n",
              "      <td>SOURCE_USER 61</td>\n",
              "      <td>POST_USER 60</td>\n",
              "      <td>-0.002396</td>\n",
              "    </tr>\n",
              "  </tbody>\n",
              "</table>\n",
              "</div>\n",
              "      <button class=\"colab-df-convert\" onclick=\"convertToInteractive('df-1c255a65-471f-4157-910a-d585529ef10a')\"\n",
              "              title=\"Convert this dataframe to an interactive table.\"\n",
              "              style=\"display:none;\">\n",
              "        \n",
              "  <svg xmlns=\"http://www.w3.org/2000/svg\" height=\"24px\"viewBox=\"0 0 24 24\"\n",
              "       width=\"24px\">\n",
              "    <path d=\"M0 0h24v24H0V0z\" fill=\"none\"/>\n",
              "    <path d=\"M18.56 5.44l.94 2.06.94-2.06 2.06-.94-2.06-.94-.94-2.06-.94 2.06-2.06.94zm-11 1L8.5 8.5l.94-2.06 2.06-.94-2.06-.94L8.5 2.5l-.94 2.06-2.06.94zm10 10l.94 2.06.94-2.06 2.06-.94-2.06-.94-.94-2.06-.94 2.06-2.06.94z\"/><path d=\"M17.41 7.96l-1.37-1.37c-.4-.4-.92-.59-1.43-.59-.52 0-1.04.2-1.43.59L10.3 9.45l-7.72 7.72c-.78.78-.78 2.05 0 2.83L4 21.41c.39.39.9.59 1.41.59.51 0 1.02-.2 1.41-.59l7.78-7.78 2.81-2.81c.8-.78.8-2.07 0-2.86zM5.41 20L4 18.59l7.72-7.72 1.47 1.35L5.41 20z\"/>\n",
              "  </svg>\n",
              "      </button>\n",
              "      \n",
              "  <style>\n",
              "    .colab-df-container {\n",
              "      display:flex;\n",
              "      flex-wrap:wrap;\n",
              "      gap: 12px;\n",
              "    }\n",
              "\n",
              "    .colab-df-convert {\n",
              "      background-color: #E8F0FE;\n",
              "      border: none;\n",
              "      border-radius: 50%;\n",
              "      cursor: pointer;\n",
              "      display: none;\n",
              "      fill: #1967D2;\n",
              "      height: 32px;\n",
              "      padding: 0 0 0 0;\n",
              "      width: 32px;\n",
              "    }\n",
              "\n",
              "    .colab-df-convert:hover {\n",
              "      background-color: #E2EBFA;\n",
              "      box-shadow: 0px 1px 2px rgba(60, 64, 67, 0.3), 0px 1px 3px 1px rgba(60, 64, 67, 0.15);\n",
              "      fill: #174EA6;\n",
              "    }\n",
              "\n",
              "    [theme=dark] .colab-df-convert {\n",
              "      background-color: #3B4455;\n",
              "      fill: #D2E3FC;\n",
              "    }\n",
              "\n",
              "    [theme=dark] .colab-df-convert:hover {\n",
              "      background-color: #434B5C;\n",
              "      box-shadow: 0px 1px 3px 1px rgba(0, 0, 0, 0.15);\n",
              "      filter: drop-shadow(0px 1px 2px rgba(0, 0, 0, 0.3));\n",
              "      fill: #FFFFFF;\n",
              "    }\n",
              "  </style>\n",
              "\n",
              "      <script>\n",
              "        const buttonEl =\n",
              "          document.querySelector('#df-1c255a65-471f-4157-910a-d585529ef10a button.colab-df-convert');\n",
              "        buttonEl.style.display =\n",
              "          google.colab.kernel.accessAllowed ? 'block' : 'none';\n",
              "\n",
              "        async function convertToInteractive(key) {\n",
              "          const element = document.querySelector('#df-1c255a65-471f-4157-910a-d585529ef10a');\n",
              "          const dataTable =\n",
              "            await google.colab.kernel.invokeFunction('convertToInteractive',\n",
              "                                                     [key], {});\n",
              "          if (!dataTable) return;\n",
              "\n",
              "          const docLinkHtml = 'Like what you see? Visit the ' +\n",
              "            '<a target=\"_blank\" href=https://colab.research.google.com/notebooks/data_table.ipynb>data table notebook</a>'\n",
              "            + ' to learn more about interactive tables.';\n",
              "          element.innerHTML = '';\n",
              "          dataTable['output_type'] = 'display_data';\n",
              "          await google.colab.output.renderOutput(dataTable, element);\n",
              "          const docLink = document.createElement('div');\n",
              "          docLink.innerHTML = docLinkHtml;\n",
              "          element.appendChild(docLink);\n",
              "        }\n",
              "      </script>\n",
              "    </div>\n",
              "  </div>\n",
              "  "
            ]
          },
          "metadata": {},
          "execution_count": 117
        }
      ],
      "source": [
        "df.head()"
      ]
    },
    {
      "cell_type": "code",
      "execution_count": null,
      "metadata": {
        "colab": {
          "base_uri": "https://localhost:8080/"
        },
        "id": "MlIvu61bma46",
        "outputId": "988b7ece-caf6-4e9a-b9ee-e89c656d75b6"
      },
      "outputs": [
        {
          "output_type": "execute_result",
          "data": {
            "text/plain": [
              "Journal_numerical         2\n",
              "GL account              794\n",
              "Account No            48888\n",
              "BAT_NAME             837849\n",
              "JNL_LNE_str           13441\n",
              "Period                   13\n",
              "SOURCE_USER             151\n",
              "POST_USER               151\n",
              "Amount_Z             888261\n",
              "dtype: int64"
            ]
          },
          "metadata": {},
          "execution_count": 118
        }
      ],
      "source": [
        "  df.nunique()"
      ]
    },
    {
      "cell_type": "code",
      "execution_count": null,
      "metadata": {
        "id": "m8lzE8fcma-5"
      },
      "outputs": [],
      "source": [
        "!pip install kmodes"
      ]
    },
    {
      "cell_type": "code",
      "execution_count": null,
      "metadata": {
        "id": "pJdY3wgImbEy"
      },
      "outputs": [],
      "source": [
        "from kmodes.kmodes import KModes\n",
        "from kmodes.kprototypes import KPrototypes"
      ]
    },
    {
      "cell_type": "code",
      "execution_count": null,
      "metadata": {
        "id": "XPRP2kmF2jM8"
      },
      "outputs": [],
      "source": [
        "#Identifying categorical variables"
      ]
    },
    {
      "cell_type": "code",
      "execution_count": null,
      "metadata": {
        "id": "R21z2nRz-Lua"
      },
      "outputs": [],
      "source": [
        "catColumnsPos = [df.columns.get_loc(col) for col in list(df.select_dtypes('object').columns)]  #index of categorical variables"
      ]
    },
    {
      "cell_type": "code",
      "execution_count": null,
      "metadata": {
        "colab": {
          "base_uri": "https://localhost:8080/"
        },
        "id": "agxIy0Fv8xnj",
        "outputId": "11c1f39e-dae5-4590-8643-c6970b41988b"
      },
      "outputs": [
        {
          "output_type": "execute_result",
          "data": {
            "text/plain": [
              "[1, 2, 3, 4, 5, 6, 7]"
            ]
          },
          "metadata": {},
          "execution_count": 124
        }
      ],
      "source": [
        "catColumnsPos"
      ]
    },
    {
      "cell_type": "code",
      "execution_count": null,
      "metadata": {
        "id": "SbNP8N8iQp3g"
      },
      "outputs": [],
      "source": [
        "from sklearn.model_selection import train_test_split"
      ]
    },
    {
      "cell_type": "code",
      "source": [
        "test, train = train_test_split(df, test_size=0.1, random_state=0, stratify=df_check[['Journal_numerical']])"
      ],
      "metadata": {
        "id": "Tof0NTjzH7ed"
      },
      "execution_count": null,
      "outputs": []
    },
    {
      "cell_type": "code",
      "execution_count": null,
      "metadata": {
        "id": "nOLsi1rsQ0vy"
      },
      "outputs": [],
      "source": [
        "dfMatrix = train.to_numpy() #Converting data into numpy for building the model"
      ]
    },
    {
      "cell_type": "markdown",
      "source": [
        "Working with 80 clusters-Training the model"
      ],
      "metadata": {
        "id": "K2nN3fzCP--D"
      }
    },
    {
      "cell_type": "code",
      "source": [
        "cluster=80\n",
        "kprototype = KPrototypes(n_jobs = 1, n_clusters = cluster, init = 'random', random_state = 0,n_init=1,  max_iter=15,verbose=True   )\n",
        "kprototype.fit_predict(dfMatrix, categorical = catColumnsPos)\n",
        "print(\"For\",cluster,\"Clusters Cost=\",kprototype.cost_)"
      ],
      "metadata": {
        "colab": {
          "base_uri": "https://localhost:8080/"
        },
        "id": "FXR8yqT_0mYs",
        "outputId": "8ed3b429-68de-432e-c76a-00b9017741b5"
      },
      "execution_count": null,
      "outputs": [
        {
          "output_type": "stream",
          "name": "stdout",
          "text": [
            "Init: initializing centroids\n",
            "Init: initializing clusters\n",
            "Starting iterations...\n",
            "Run: 1, iteration: 1/15, moves: 598349, ncost: 1698143.731572526\n",
            "Run: 1, iteration: 2/15, moves: 249569, ncost: 1553820.0661575068\n",
            "Run: 1, iteration: 3/15, moves: 106015, ncost: 1501060.4213821806\n",
            "Run: 1, iteration: 4/15, moves: 66526, ncost: 1470515.8183445898\n",
            "Run: 1, iteration: 5/15, moves: 41241, ncost: 1462125.4193798543\n",
            "Run: 1, iteration: 6/15, moves: 31189, ncost: 1457465.7469999595\n",
            "Run: 1, iteration: 7/15, moves: 27470, ncost: 1452790.1673279714\n",
            "Run: 1, iteration: 8/15, moves: 14984, ncost: 1449033.2361025175\n",
            "Run: 1, iteration: 9/15, moves: 5436, ncost: 1445365.3865766185\n",
            "Run: 1, iteration: 10/15, moves: 4372, ncost: 1441111.1459988563\n",
            "Run: 1, iteration: 11/15, moves: 5721, ncost: 1438832.0449829663\n",
            "Run: 1, iteration: 12/15, moves: 2496, ncost: 1437970.945500899\n",
            "Run: 1, iteration: 13/15, moves: 1911, ncost: 1437397.156357831\n",
            "Run: 1, iteration: 14/15, moves: 2039, ncost: 1436746.2901235335\n",
            "Run: 1, iteration: 15/15, moves: 2356, ncost: 1436163.3066707577\n",
            "For 80 Clusters Cost= 1436163.3066707577\n"
          ]
        }
      ]
    },
    {
      "cell_type": "code",
      "source": [
        "kprototype.gamma #gamma value for numerical variables"
      ],
      "metadata": {
        "colab": {
          "base_uri": "https://localhost:8080/"
        },
        "id": "xu4JRFFndZ2a",
        "outputId": "84e433d6-69d6-4427-f56c-be2d5a2c4ee7"
      },
      "execution_count": null,
      "outputs": [
        {
          "output_type": "execute_result",
          "data": {
            "text/plain": [
              "0.3793711023738643"
            ]
          },
          "metadata": {},
          "execution_count": 130
        }
      ]
    },
    {
      "cell_type": "code",
      "source": [
        "kprototype.cluster_centroids_[0:4]"
      ],
      "metadata": {
        "colab": {
          "base_uri": "https://localhost:8080/"
        },
        "id": "C9h8NWTn_CUU",
        "outputId": "c6cb8d7d-0f85-4392-b934-aa63ec3937b9"
      },
      "execution_count": null,
      "outputs": [
        {
          "output_type": "execute_result",
          "data": {
            "text/plain": [
              "array([['0.0', '0.04236729247972196', 'GL account 768',\n",
              "        'Account No 48162', 'BAT_NAME 494310', '92000001.0', 'Period 12',\n",
              "        'SOURCE_USER 146', 'POST_USER 145'],\n",
              "       ['0.0', '0.046462193738075475', 'GL account 629',\n",
              "        'Account No 9722', 'BAT_NAME 520625', '7.0', 'Period 2',\n",
              "        'SOURCE_USER 61', 'POST_USER 60'],\n",
              "       ['8.341675008341675e-05', '0.01854481754555002', 'GL account 197',\n",
              "        'Account No 24654', 'BAT_NAME 838033', '2.0', 'Period 2',\n",
              "        'SOURCE_USER 61', 'POST_USER 60'],\n",
              "       ['1.0', '-1.4656130925353315', 'GL account 10',\n",
              "        'Account No 48144', 'BAT_NAME 520491', '2.0', 'Period 9',\n",
              "        'SOURCE_USER 150', 'POST_USER 149']], dtype='<U32')"
            ]
          },
          "metadata": {},
          "execution_count": 214
        }
      ]
    },
    {
      "cell_type": "code",
      "source": [
        "dfMatrix2=test.to_numpy()"
      ],
      "metadata": {
        "id": "_iYVI8woBBGk"
      },
      "execution_count": null,
      "outputs": []
    },
    {
      "cell_type": "code",
      "source": [
        "prediction_1=kprototype.predict(dfMatrix2,catColumnsPos)"
      ],
      "metadata": {
        "id": "ttGv0O3nA36M"
      },
      "execution_count": null,
      "outputs": []
    },
    {
      "cell_type": "code",
      "source": [
        "dfMatrix2[0][1:8]"
      ],
      "metadata": {
        "colab": {
          "base_uri": "https://localhost:8080/"
        },
        "id": "RGNSjalSA30U",
        "outputId": "58cc2b41-ede1-4c62-8470-1d0a2c4d9f27"
      },
      "execution_count": null,
      "outputs": [
        {
          "output_type": "execute_result",
          "data": {
            "text/plain": [
              "array(['GL account 192', 'Account No 30423', 'BAT_NAME 796774', '9.0',\n",
              "       'Period 1', 'SOURCE_USER 61', 'POST_USER 60'], dtype=object)"
            ]
          },
          "metadata": {},
          "execution_count": 225
        }
      ]
    },
    {
      "cell_type": "code",
      "source": [
        "dfMatrix2[0:-1][0]#,dfMatrix2[0][-1]"
      ],
      "metadata": {
        "colab": {
          "base_uri": "https://localhost:8080/"
        },
        "id": "XHSfvAM0A3uX",
        "outputId": "c065f087-848d-4fc2-c438-7e37019c883d"
      },
      "execution_count": null,
      "outputs": [
        {
          "output_type": "execute_result",
          "data": {
            "text/plain": [
              "array([0, 'GL account 192', 'Account No 30423', 'BAT_NAME 796774', '9.0',\n",
              "       'Period 1', 'SOURCE_USER 61', 'POST_USER 60',\n",
              "       0.0002553366562040763], dtype=object)"
            ]
          },
          "metadata": {},
          "execution_count": 224
        }
      ]
    },
    {
      "cell_type": "code",
      "source": [
        "!pip install kmodes"
      ],
      "metadata": {
        "id": "MvPELApJFToo"
      },
      "execution_count": null,
      "outputs": []
    },
    {
      "cell_type": "code",
      "source": [
        "gamma=kprototype.gamma #impact of numerical part"
      ],
      "metadata": {
        "id": "C4lKDnmoF2jd"
      },
      "execution_count": null,
      "outputs": []
    },
    {
      "cell_type": "code",
      "source": [
        "distance=[]\n",
        "max=0\n",
        "max_index=0\n",
        "j=0\n",
        "for i in range(10000):\n",
        "  dis_sim=kmodes.kmodes.matching_dissim( np.reshape(dfMatrix2[i][catColumnsPos],[1,-1]),np.reshape(kprototype.cluster_centroids_[prediction_1[i]][2:],[1,-1]) )\n",
        "  b=kprototype.cluster_centroids_[prediction_1[i]][0:2].astype(float)\n",
        "  eu_dist=np.sqrt((b[0]-dfMatrix2[i][0])**2+(b[1]-dfMatrix2[i][-1])**2)\n",
        "  k_distance=dis_sim[0]+eu_dist*gamma.astype(float)\n",
        "  distance.append(k_distance)"
      ],
      "metadata": {
        "id": "RhFuALU6A3oC"
      },
      "execution_count": null,
      "outputs": []
    },
    {
      "cell_type": "code",
      "source": [
        "plt.boxplot (distance)"
      ],
      "metadata": {
        "colab": {
          "base_uri": "https://localhost:8080/",
          "height": 404
        },
        "id": "d8y-8_LFWDX1",
        "outputId": "245b9d29-f157-4924-f03d-e7e754da1af6"
      },
      "execution_count": null,
      "outputs": [
        {
          "output_type": "execute_result",
          "data": {
            "text/plain": [
              "{'boxes': [<matplotlib.lines.Line2D at 0x7f9f416babd0>],\n",
              " 'caps': [<matplotlib.lines.Line2D at 0x7f9f41834610>,\n",
              "  <matplotlib.lines.Line2D at 0x7f9f41782490>],\n",
              " 'fliers': [<matplotlib.lines.Line2D at 0x7f9f4179ba10>],\n",
              " 'means': [],\n",
              " 'medians': [<matplotlib.lines.Line2D at 0x7f9f41782150>],\n",
              " 'whiskers': [<matplotlib.lines.Line2D at 0x7f9f41535950>,\n",
              "  <matplotlib.lines.Line2D at 0x7f9f41535110>]}"
            ]
          },
          "metadata": {},
          "execution_count": 275
        },
        {
          "output_type": "display_data",
          "data": {
            "text/plain": [
              "<Figure size 432x288 with 1 Axes>"
            ],
            "image/png": "[encoded data removed]"
          },
          "metadata": {
            "needs_background": "light"
          }
        }
      ]
    },
    {
      "cell_type": "code",
      "source": [
        "print(\"Mean-\",np.mean(distance))\n",
        "print(\"Median-\",np.median(distance))\n",
        "print(\"Std-\",np.std(distance))"
      ],
      "metadata": {
        "colab": {
          "base_uri": "https://localhost:8080/"
        },
        "id": "-5JLYi_woLdz",
        "outputId": "80cb6242-ec48-47a8-a5ef-c3bdc98b555f"
      },
      "execution_count": null,
      "outputs": [
        {
          "output_type": "stream",
          "name": "stdout",
          "text": [
            "Mean- 3.4965748625139574\n",
            "Median- 3.007533863117315\n",
            "Std- 1.028560715781688\n"
          ]
        }
      ]
    },
    {
      "cell_type": "code",
      "source": [
        "np.max(distance)"
      ],
      "metadata": {
        "colab": {
          "base_uri": "https://localhost:8080/"
        },
        "id": "m5oOybDFoxqN",
        "outputId": "e48b8f12-eb5f-467b-8919-622f2278f890"
      },
      "execution_count": null,
      "outputs": [
        {
          "output_type": "execute_result",
          "data": {
            "text/plain": [
              "8.432802720470345"
            ]
          },
          "metadata": {},
          "execution_count": 280
        }
      ]
    },
    {
      "cell_type": "code",
      "source": [
        "dfMatrix2[np.argmin(distance)]"
      ],
      "metadata": {
        "colab": {
          "base_uri": "https://localhost:8080/"
        },
        "id": "94S-TdtVo1fv",
        "outputId": "05018882-2f2e-48f4-8eac-49c70d646222"
      },
      "execution_count": null,
      "outputs": [
        {
          "output_type": "execute_result",
          "data": {
            "text/plain": [
              "array([0, 'GL account 192', 'Account No 30423', 'BAT_NAME 796774', '9.0',\n",
              "       'Period 1', 'SOURCE_USER 61', 'POST_USER 60',\n",
              "       0.0002553366562040763], dtype=object)"
            ]
          },
          "metadata": {},
          "execution_count": 281
        }
      ]
    },
    {
      "cell_type": "code",
      "source": [
        "\n",
        "outlier=concatenated_data.loc[concatenated_data['Account No']==\"Account No 30423\"]"
      ],
      "metadata": {
        "id": "14spprF-pBM8"
      },
      "execution_count": null,
      "outputs": []
    },
    {
      "cell_type": "code",
      "source": [
        "np.mean(outlier[\"Amount\"])"
      ],
      "metadata": {
        "colab": {
          "base_uri": "https://localhost:8080/"
        },
        "id": "lXGu6OPzpL2F",
        "outputId": "0583f1a0-c9e5-4efd-b43b-743eca45845c"
      },
      "execution_count": null,
      "outputs": [
        {
          "output_type": "execute_result",
          "data": {
            "text/plain": [
              "0.021595985865156795"
            ]
          },
          "metadata": {},
          "execution_count": 290
        }
      ]
    },
    {
      "cell_type": "code",
      "source": [
        ""
      ],
      "metadata": {
        "id": "qnnIl4F0ppQt"
      },
      "execution_count": null,
      "outputs": []
    }
  ],
  "metadata": {
    "colab": {
      "background_execution": "on",
      "machine_shape": "hm",
      "name": "Financial Data.ipynb",
      "provenance": []
    },
    "gpuClass": "standard",
    "kernelspec": {
      "display_name": "Python 3",
      "name": "python3"
    },
    "language_info": {
      "name": "python"
    },
    "accelerator": "GPU"
  },
  "nbformat": 4,
  "nbformat_minor": 0
}